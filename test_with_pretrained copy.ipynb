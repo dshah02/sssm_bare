{
 "cells": [
  {
   "cell_type": "code",
   "execution_count": 2,
   "metadata": {},
   "outputs": [],
   "source": [
    "import torch"
   ]
  },
  {
   "cell_type": "code",
   "execution_count": 3,
   "metadata": {},
   "outputs": [],
   "source": [
    "from model import SpectralSSM\n",
    "from model import SpectralSSMConfigs\n",
    "d_in=  24\n",
    "d_out = 18\n",
    "sl = 512\n",
    "\n",
    "n_layers: int = 4\n",
    "d_model: int = 32\n",
    "embd_scale: int = 1\n",
    "mlp_scale: int = 4\n",
    "bias: bool = False\n",
    "dropout: float = 0.0\n",
    "num_eigh: int = 16\n",
    "k_y: int = 2\n",
    "k_u: int = 3\n",
    "learnable_m_y: bool = False\n",
    "alpha: float = 0.9  # 0.9 deemed \"uniformly optimal\" in the paper\n",
    "use_ar_y: bool = False\n",
    "use_ar_u: bool = False\n",
    "use_hankel_L: bool = False\n",
    "use_flash_fft: bool = False\n",
    "use_approx: bool = True\n",
    "\n",
    "# MoE\n",
    "moe: bool = False\n",
    "num_experts: int = 3\n",
    "num_experts_per_timestep: int = 2\n",
    "\n",
    "#residual\n",
    "num_models= 2"
   ]
  },
  {
   "cell_type": "code",
   "execution_count": 4,
   "metadata": {},
   "outputs": [],
   "source": [
    "from losses.loss_walker import Walker2DLoss\n",
    "loss_fn= Walker2DLoss()\n",
    "device = torch.device(\"cuda\" if torch.cuda.is_available() else \"cpu\")\n",
    "\n",
    "configs = SpectralSSMConfigs(\n",
    "        n_layers=n_layers,\n",
    "        d_model=d_model,\n",
    "        d_in=d_in,\n",
    "        d_out=d_out,\n",
    "        sl=sl,\n",
    "        mlp_scale=mlp_scale,\n",
    "        embd_scale=embd_scale,\n",
    "        bias=bias,\n",
    "        dropout=dropout,\n",
    "        num_eigh=num_eigh,\n",
    "        k_y=k_y,\n",
    "        k_u=k_u,\n",
    "        learnable_m_y=learnable_m_y,\n",
    "        alpha=alpha,\n",
    "        use_ar_y=use_ar_y,\n",
    "        use_ar_u=use_ar_u,\n",
    "        use_hankel_L=use_hankel_L,\n",
    "        use_flash_fft=use_flash_fft,\n",
    "        use_approx=use_approx,\n",
    "        num_models=num_models,\n",
    "\n",
    "        # MoE\n",
    "        moe=moe,\n",
    "        num_experts=num_experts,\n",
    "        num_experts_per_timestep=num_experts_per_timestep,\n",
    "\n",
    "        loss_fn=loss_fn,\n",
    "        controls={\"task\": 'mujoco-v1', \"controller\": 'Walker2D-v1'},\n",
    "        device=device,\n",
    "    )"
   ]
  },
  {
   "cell_type": "code",
   "execution_count": 5,
   "metadata": {},
   "outputs": [
    {
     "name": "stderr",
     "output_type": "stream",
     "text": [
      "C:\\Users\\devan\\AppData\\Local\\Temp\\ipykernel_26420\\2001923582.py:1: FutureWarning: You are using `torch.load` with `weights_only=False` (the current default value), which uses the default pickle module implicitly. It is possible to construct malicious pickle data which will execute arbitrary code during unpickling (See https://github.com/pytorch/pytorch/blob/main/SECURITY.md#untrusted-models for more details). In a future release, the default value for `weights_only` will be flipped to `True`. This limits the functions that could be executed during unpickling. Arbitrary objects will no longer be allowed to be loaded via this mode unless they are explicitly allowlisted by the user via `torch.serialization.add_safe_globals`. We recommend you start setting `weights_only=True` for any use case where you don't have full control of the loaded file. Please open an issue on GitHub for any issues related to this experimental feature.\n",
      "  state_dict = torch.load(\"./checkpoints\\sssm-Walker2D-v1-model_step-1405-2024-11-19-12-14-02.pt\", map_location=\"cpu\")\n"
     ]
    }
   ],
   "source": [
    "state_dict = torch.load(\"./checkpoints\\sssm-Walker2D-v1-model_step-1405-2024-11-19-12-14-02.pt\", map_location=\"cpu\")"
   ]
  },
  {
   "cell_type": "code",
   "execution_count": 6,
   "metadata": {},
   "outputs": [
    {
     "name": "stdout",
     "output_type": "stream",
     "text": [
      "\u001b[94m\n",
      "Creating dataloader on cuda for task: mujoco-v1\u001b[0m\n",
      "Using sequence length: 512\n",
      "\n",
      "Apply Gaussian noise to data?: Enabled | Using noise=0.5, noise_frequency=0.1\n",
      "\u001b[94m\n",
      "Calculating data statistics...\u001b[0m\n",
      "\u001b[94mNormalizing data...\u001b[0m\n",
      "\u001b[94mValidating data normalization...\u001b[0m\n",
      "\u001b[92m\n",
      "Normalized mean of inputs for coordinates: [0.00019158 0.00069152]\u001b[0m\n",
      "\u001b[92mNormalized standard deviation of inputs for coordinates: [1.00007101 1.03903829]\u001b[0m\n",
      "\u001b[92mNormalized mean of targets for coordinates: [-0.00019158 -0.00069152]\u001b[0m\n",
      "\u001b[92mNormalized standard deviation of targets for coordinates: [0.99992551 0.95932153]\u001b[0m\n",
      "\u001b[92m\n",
      "Normalized mean of inputs for angles: [-1.18251311e-04  5.44325716e-05 -1.01161838e-05  6.50042958e-04\n",
      "  1.59168791e-04  2.00256100e-04 -4.74263334e-05]\u001b[0m\n",
      "\u001b[92mNormalized standard deviation of inputs for angles: [1.02446159 1.35963244 1.11357568 1.0100976  1.35761172 1.1228596\n",
      " 1.00826629]\u001b[0m\n",
      "\u001b[92mNormalized mean of targets for angles: [ 1.18251311e-04 -5.44325716e-05  1.01161838e-05 -6.50042958e-04\n",
      " -1.59168791e-04 -2.00256100e-04  4.74263334e-05]\u001b[0m\n",
      "\u001b[92mNormalized standard deviation of targets for angles: [0.97488429 0.38867738 0.87165021 0.98977351 0.39567976 0.85965336\n",
      " 0.9916419 ]\u001b[0m\n",
      "\u001b[92m\n",
      "Normalized mean of inputs for coordinate_velocities: [ 0.00027329 -0.00017793]\u001b[0m\n",
      "\u001b[92mNormalized standard deviation of inputs for coordinate_velocities: [1.00372722 1.00256238]\u001b[0m\n",
      "\u001b[92mNormalized mean of targets for coordinate_velocities: [-0.00027329  0.00017793]\u001b[0m\n",
      "\u001b[92mNormalized standard deviation of targets for coordinate_velocities: [0.99624425 0.99741829]\u001b[0m\n",
      "\u001b[92m\n",
      "Normalized mean of inputs for angular_velocities: [ 2.32255209e-05 -6.31466776e-06 -1.01463915e-05 -3.14474060e-04\n",
      " -7.78311493e-06 -5.04389372e-06  2.42755002e-04]\u001b[0m\n",
      "\u001b[92mNormalized standard deviation of inputs for angular_velocities: [1.00067129 1.00152665 1.0003768  1.00044159 1.00076974 1.00031669\n",
      " 1.00004964]\u001b[0m\n",
      "\u001b[92mNormalized mean of targets for angular_velocities: [-2.32255209e-05  6.31466776e-06  1.01463915e-05  3.14474060e-04\n",
      "  7.78311493e-06  5.04389372e-06 -2.42755002e-04]\u001b[0m\n",
      "\u001b[92mNormalized standard deviation of targets for angular_velocities: [0.99932245 0.99846294 0.99961945 0.99955542 0.99922105 0.99967948\n",
      " 0.99994792]\u001b[0m\n",
      "\u001b[92m\n",
      "Normalized mean of inputs for torque: [ 9.03279033e-16  1.42152782e-16 -1.18628535e-16  5.19950958e-15\n",
      "  9.33285624e-17 -2.82422411e-17]\u001b[0m\n",
      "\u001b[92mNormalized standard deviation of inputs for torque: [0.99997545 0.99997977 0.99998779 0.99993902 0.99997422 0.99998953]\u001b[0m\n",
      "\u001b[1m\u001b[92mData normalization validated successfully.\u001b[0m\n",
      "\u001b[92mDataloader created successfully.\u001b[0m\n",
      "\u001b[94m\n",
      "Creating dataloader on cuda for task: mujoco-v1\u001b[0m\n",
      "Using sequence length: 512\n",
      "\n",
      "Apply Gaussian noise to data?: Enabled | Using noise=0.5, noise_frequency=0.1\n",
      "\u001b[94m\n",
      "Calculating data statistics...\u001b[0m\n",
      "\u001b[94mNormalizing data...\u001b[0m\n",
      "\u001b[94mValidating data normalization...\u001b[0m\n",
      "\u001b[92m\n",
      "Normalized mean of inputs for coordinates: [-0.00071712 -0.00186344]\u001b[0m\n",
      "\u001b[92mNormalized standard deviation of inputs for coordinates: [1.00063666 1.03796781]\u001b[0m\n",
      "\u001b[92mNormalized mean of targets for coordinates: [0.00071712 0.00186344]\u001b[0m\n",
      "\u001b[92mNormalized standard deviation of targets for coordinates: [0.99935897 0.96047656]\u001b[0m\n",
      "\u001b[92m\n",
      "Normalized mean of inputs for angles: [ 5.94453146e-04 -2.74867241e-04  4.50618432e-04 -2.88996895e-03\n",
      "  7.93668391e-04 -3.47552900e-05  4.47107076e-04]\u001b[0m\n",
      "\u001b[92mNormalized standard deviation of inputs for angles: [1.02219888 1.35824907 1.11211397 1.00913266 1.35759615 1.12127549\n",
      " 1.0072085 ]\u001b[0m\n",
      "\u001b[92mNormalized mean of targets for angles: [-5.94453146e-04  2.74867241e-04 -4.50618432e-04  2.88996895e-03\n",
      " -7.93668391e-04  3.47552900e-05 -4.47107076e-04]\u001b[0m\n",
      "\u001b[92mNormalized standard deviation of targets for angles: [0.97725622 0.39348386 0.87351404 0.99074931 0.39573198 0.86171846\n",
      " 0.99271607]\u001b[0m\n",
      "\u001b[92m\n",
      "Normalized mean of inputs for coordinate_velocities: [-0.00094118  0.00057756]\u001b[0m\n",
      "\u001b[92mNormalized standard deviation of inputs for coordinate_velocities: [1.00128102 1.00232807]\u001b[0m\n",
      "\u001b[92mNormalized mean of targets for coordinate_velocities: [ 0.00094118 -0.00057756]\u001b[0m\n",
      "\u001b[92mNormalized standard deviation of targets for coordinate_velocities: [0.99870195 0.99765348]\u001b[0m\n",
      "\u001b[92m\n",
      "Normalized mean of inputs for angular_velocities: [-1.41717528e-04 -1.25554567e-04  6.99441422e-05  1.28638288e-03\n",
      " -2.50171675e-05 -1.02032973e-05 -9.29700577e-04]\u001b[0m\n",
      "\u001b[92mNormalized standard deviation of inputs for angular_velocities: [0.99988238 0.99886524 0.99954199 0.99884102 1.00262431 0.99974181\n",
      " 1.00023295]\u001b[0m\n",
      "\u001b[92mNormalized mean of targets for angular_velocities: [ 1.41717528e-04  1.25554567e-04 -6.99441422e-05 -1.28638288e-03\n",
      "  2.50171675e-05  1.02032973e-05  9.29700577e-04]\u001b[0m\n",
      "\u001b[92mNormalized standard deviation of targets for angular_velocities: [1.00011179 1.00112543 1.0004542  1.0011533  0.99736017 1.00025439\n",
      " 0.99976376]\u001b[0m\n",
      "\u001b[92m\n",
      "Normalized mean of inputs for torque: [-1.14495421e-16  5.91640535e-16 -3.03218806e-17  2.25048998e-15\n",
      "  1.43099062e-16  4.83937215e-17]\u001b[0m\n",
      "\u001b[92mNormalized standard deviation of inputs for torque: [0.99997561 0.99997978 0.99998778 0.9999394  0.99997421 0.99998954]\u001b[0m\n",
      "\u001b[1m\u001b[92mData normalization validated successfully.\u001b[0m\n",
      "\u001b[92mDataloader created successfully.\u001b[0m\n"
     ]
    }
   ],
   "source": [
    "controller = 'Walker2D-v1' #@param\n",
    "train_data = {\n",
    "    \"inputs\": f\"data/mujoco-v1/{controller}/train_inputs.npy\",\n",
    "    \"targets\": f\"data/mujoco-v1/{controller}/train_targets.npy\",\n",
    "}\n",
    "val_data = {\n",
    "    \"inputs\": f\"data/mujoco-v1/{controller}/val_inputs.npy\",\n",
    "    \"targets\": f\"data/mujoco-v1/{controller}/val_targets.npy\",\n",
    "}\n",
    "\n",
    "bsz =1\n",
    "\n",
    "from utils.dataloader import get_dataloader \n",
    "\n",
    "train_loader = get_dataloader(\n",
    "    model  = 'spectral_ssm',\n",
    "    data = train_data,\n",
    "    task = 'mujoco-v1',\n",
    "    controller = controller,\n",
    "    bsz  = bsz,\n",
    "    preprocess =  True, #normalize\n",
    "    shuffle= True,\n",
    "    sl = sl,\n",
    "    device = device,\n",
    "    shift = 1,\n",
    "    eps = 1e-5,\n",
    "    noise = 0.5,\n",
    "    noise_frequency = 0.1\n",
    ")\n",
    "\n",
    "val_loader = get_dataloader(\n",
    "    model  = 'spectral_ssm',\n",
    "    data = val_data,\n",
    "    task = 'mujoco-v1',\n",
    "    controller =  controller,\n",
    "    bsz = bsz,\n",
    "    preprocess =  True, #normalize\n",
    "    shuffle= True,\n",
    "    sl = sl,\n",
    "    device = device,\n",
    "    shift = 1,\n",
    "    eps = 1e-5,\n",
    "    noise = 0.5,\n",
    "    noise_frequency = 0.1,\n",
    ")"
   ]
  },
  {
   "cell_type": "code",
   "execution_count": 7,
   "metadata": {},
   "outputs": [
    {
     "name": "stdout",
     "output_type": "stream",
     "text": [
      "Top 10 parameter groups:\n",
      "1. spectral_ssm.hidden.0.mlp.fc_1.weight: 8,192 parameters\n",
      "2. spectral_ssm.hidden.1.mlp.fc_1.weight: 8,192 parameters\n",
      "3. spectral_ssm.hidden.2.mlp.fc_1.weight: 8,192 parameters\n",
      "4. spectral_ssm.hidden.3.mlp.fc_1.weight: 8,192 parameters\n",
      "5. spectral_ssm.hidden.0.mlp.fc_2.weight: 4,096 parameters\n",
      "6. spectral_ssm.hidden.1.mlp.fc_2.weight: 4,096 parameters\n",
      "7. spectral_ssm.hidden.2.mlp.fc_2.weight: 4,096 parameters\n",
      "8. spectral_ssm.hidden.3.mlp.fc_2.weight: 4,096 parameters\n",
      "9. spectral_ssm.hidden.0.stu.M_inputs: 1,024 parameters\n",
      "10. spectral_ssm.hidden.1.stu.M_inputs: 1,024 parameters\n",
      "\n",
      "STU Model Parameter Count: 0.06M\n"
     ]
    },
    {
     "data": {
      "text/plain": [
       "<All keys matched successfully>"
      ]
     },
     "execution_count": 7,
     "metadata": {},
     "output_type": "execute_result"
    }
   ],
   "source": [
    "model = SpectralSSM(configs).to(device)\n",
    "model.load_state_dict(state_dict)"
   ]
  },
  {
   "cell_type": "code",
   "execution_count": 8,
   "metadata": {},
   "outputs": [
    {
     "name": "stderr",
     "output_type": "stream",
     "text": [
      "100%|██████████| 703/703 [00:04<00:00, 168.01it/s]"
     ]
    },
    {
     "name": "stdout",
     "output_type": "stream",
     "text": [
      "Validation Loss: 0.7072\n"
     ]
    },
    {
     "name": "stderr",
     "output_type": "stream",
     "text": [
      "\n"
     ]
    }
   ],
   "source": [
    "import tqdm\n",
    "def evaluate_model(model, val_loader, loss_fn, device):\n",
    "    model.eval()  # Set the model to evaluation mode\n",
    "    val_loss = 0.0\n",
    "\n",
    "    with torch.no_grad():  # Ensure no gradients are calculated during validation\n",
    "        for val_inputs, val_targets in tqdm.tqdm(val_loader):\n",
    "            val_inputs, val_targets = val_inputs.to(device), val_targets.to(device)\n",
    "            val_outputs, _ = model(val_inputs,  None)\n",
    "            loss, _ = loss_fn(val_outputs, val_targets)  # Assume metrics return is not needed here\n",
    "            val_loss += loss.item()\n",
    "\n",
    "    val_loss /= len(val_loader)  # Average the validation loss\n",
    "    return val_loss\n",
    "\n",
    "\n",
    "validation_loss = evaluate_model(model, val_loader, loss_fn, device)\n",
    "print(f\"Validation Loss: {validation_loss:.4f}\")\n"
   ]
  },
  {
   "cell_type": "code",
   "execution_count": 9,
   "metadata": {},
   "outputs": [
    {
     "data": {
      "text/plain": [
       "Block(\n",
       "  (rn_1): RMSNorm(dim=32, eps=1e-05, elementwise_affine=True)\n",
       "  (rn_2): RMSNorm(dim=32, eps=1e-05, elementwise_affine=True)\n",
       "  (stu): STU()\n",
       "  (mlp): GatedMLP(\n",
       "    (fc_1): Linear(in_features=32, out_features=256, bias=False)\n",
       "    (fc_2): Linear(in_features=128, out_features=32, bias=False)\n",
       "    (silu): SiLU()\n",
       "    (dropout): Dropout(p=0.0, inplace=False)\n",
       "  )\n",
       ")"
      ]
     },
     "execution_count": 9,
     "metadata": {},
     "output_type": "execute_result"
    }
   ],
   "source": [
    "model.spectral_ssm['hidden'][0]"
   ]
  },
  {
   "cell_type": "code",
   "execution_count": 10,
   "metadata": {},
   "outputs": [],
   "source": [
    "import  copy\n",
    "stu_layers = [copy.deepcopy(block.stu) for block in model.spectral_ssm['hidden']]"
   ]
  },
  {
   "cell_type": "code",
   "execution_count": 11,
   "metadata": {},
   "outputs": [
    {
     "data": {
      "text/plain": [
       "4"
      ]
     },
     "execution_count": 11,
     "metadata": {},
     "output_type": "execute_result"
    }
   ],
   "source": [
    "len(stu_layers)"
   ]
  },
  {
   "cell_type": "code",
   "execution_count": 12,
   "metadata": {},
   "outputs": [],
   "source": [
    "from torch import nn "
   ]
  },
  {
   "cell_type": "code",
   "execution_count": 13,
   "metadata": {},
   "outputs": [],
   "source": [
    "class LDS(nn.Module):\n",
    "    def __init__(self, state_dim, input_dim, output_dim):\n",
    "        super(LDS, self).__init__()\n",
    "        \n",
    "        self.d_out = output_dim\n",
    "\n",
    "        self.h0 = nn.Parameter(torch.randn(state_dim))\n",
    "        # self.A = nn.Parameter(torch.clip(torch.randn(state_dim), -.7, 0.7))\n",
    "        init_A = torch.randn(state_dim)\n",
    "        self.A = nn.Parameter(init_A/torch.max(torch.abs(init_A)))\n",
    "        self.B = nn.Parameter(torch.randn(input_dim, state_dim) / input_dim)\n",
    "        self.C = nn.Parameter(torch.randn(state_dim,output_dim) / state_dim)\n",
    "        self.D = nn.Parameter(torch.randn(input_dim,output_dim) / output_dim) #keep for more complex systems\n",
    "\n",
    "        self.M = nn.Parameter(torch.randn(output_dim, output_dim) / output_dim) #autoregressive\n",
    "    def forward(self, inputs):\n",
    "        bsz, seq_len, _ = inputs.shape\n",
    "        h_t = self.h0.expand(bsz, self.h0.shape[0]).to(device)  # Ensure h0 is on the correct device\n",
    "        outputs = []\n",
    "        A = self.A.flatten()\n",
    "\n",
    "        # Store all intermediate h_t states\n",
    "        all_h_t = []\n",
    "\n",
    "        for t in range(seq_len):\n",
    "            u_t = inputs[:, t, :]  # Get input for all batches at time t\n",
    "            h_t = A * h_t + u_t @ self.B  # Update hidden states for all batches\n",
    "            all_h_t.append(h_t.unsqueeze(1))  # Store the updated h_t for each time step\n",
    "\n",
    "        # Concatenate all h_t states along the time dimension\n",
    "        all_h_t = torch.cat(all_h_t, dim=1)\n",
    "\n",
    "        # Apply C to all concatenated h_t states at once\n",
    "        outputs = torch.matmul(all_h_t, self.C)\n",
    "\n",
    "        return outputs\n",
    "\n",
    "\n",
    "    def compute_loss(self, inputs, targets):\n",
    "        mse_loss = nn.MSELoss()\n",
    "        outputs = self(inputs)\n",
    "        return mse_loss(outputs, targets)"
   ]
  },
  {
   "cell_type": "code",
   "execution_count": 24,
   "metadata": {},
   "outputs": [
    {
     "data": {
      "text/plain": [
       "tensor([[[ 0.0199,  0.0191,  0.2680,  ..., -0.0122, -0.0354,  0.0122],\n",
       "         [-0.1166, -0.0108,  0.2261,  ..., -0.0044,  0.0188, -0.0147],\n",
       "         [ 0.0664, -0.0614,  0.3872,  ...,  0.0144, -0.0147,  0.0460],\n",
       "         ...,\n",
       "         [ 0.1256, -0.0388, -0.1210,  ..., -0.0021, -0.0027, -0.0041],\n",
       "         [-0.0995, -0.0360, -0.1665,  ...,  0.0158,  0.0049,  0.0211],\n",
       "         [ 0.0292, -0.0207,  0.2955,  ..., -0.0161, -0.0079, -0.0276]]],\n",
       "       device='cuda:0', grad_fn=<AddBackward0>)"
      ]
     },
     "execution_count": 24,
     "metadata": {},
     "output_type": "execute_result"
    }
   ],
   "source": [
    "inputs = torch.randn(1, sl, d_model).to(device)\n",
    "stu_layers[0](inputs)"
   ]
  },
  {
   "cell_type": "code",
   "execution_count": 25,
   "metadata": {},
   "outputs": [
    {
     "data": {
      "text/plain": [
       "tensor([[[ 0.0560, -0.0298,  0.3922,  ...,  0.0216,  0.0570, -0.0391],\n",
       "         [-0.0004, -0.0216,  0.0728,  ...,  0.0316, -0.0646,  0.0103],\n",
       "         [ 0.0922, -0.1168, -0.1897,  ..., -0.0101,  0.2111,  0.0159],\n",
       "         ...,\n",
       "         [-0.0352,  0.0120,  0.0519,  ...,  0.0500,  0.0920, -0.0106],\n",
       "         [ 0.0025, -0.2248, -0.2972,  ..., -0.0542,  0.0219,  0.0098],\n",
       "         [ 0.0706,  0.0561,  0.1630,  ..., -0.0074,  0.0089,  0.0009]]],\n",
       "       device='cuda:0', grad_fn=<AddBackward0>)"
      ]
     },
     "execution_count": 25,
     "metadata": {},
     "output_type": "execute_result"
    }
   ],
   "source": [
    "stu_layers[1](inputs)"
   ]
  },
  {
   "cell_type": "code",
   "execution_count": 15,
   "metadata": {},
   "outputs": [
    {
     "data": {
      "text/plain": [
       "SpectralSSM(\n",
       "  (loss_fn): Walker2DLoss(\n",
       "    (mse_loss): MSELoss()\n",
       "  )\n",
       "  (spectral_ssm): ModuleDict(\n",
       "    (dropout): Dropout(p=0.0, inplace=False)\n",
       "    (hidden): ModuleList(\n",
       "      (0-3): 4 x Block(\n",
       "        (rn_1): RMSNorm(dim=32, eps=1e-05, elementwise_affine=True)\n",
       "        (rn_2): RMSNorm(dim=32, eps=1e-05, elementwise_affine=True)\n",
       "        (stu): STU()\n",
       "        (mlp): GatedMLP(\n",
       "          (fc_1): Linear(in_features=32, out_features=256, bias=False)\n",
       "          (fc_2): Linear(in_features=128, out_features=32, bias=False)\n",
       "          (silu): SiLU()\n",
       "          (dropout): Dropout(p=0.0, inplace=False)\n",
       "        )\n",
       "      )\n",
       "    )\n",
       "  )\n",
       "  (input_proj): Linear(in_features=24, out_features=32, bias=False)\n",
       "  (output_proj): Linear(in_features=32, out_features=18, bias=False)\n",
       ")"
      ]
     },
     "execution_count": 15,
     "metadata": {},
     "output_type": "execute_result"
    }
   ],
   "source": [
    "model.eval()"
   ]
  },
  {
   "cell_type": "code",
   "execution_count": 17,
   "metadata": {},
   "outputs": [
    {
     "name": "stdout",
     "output_type": "stream",
     "text": [
      "Epoch 0, Loss: 0.011472193524241447\n",
      "Epoch 100, Loss: 2.7477015464683063e-05\n",
      "Epoch 200, Loss: 1.4197867130860686e-05\n",
      "Epoch 300, Loss: 9.58824239205569e-06\n",
      "Epoch 400, Loss: 7.458047548425384e-06\n",
      "Epoch 500, Loss: 6.584728907910176e-06\n",
      "Epoch 600, Loss: 6.614927315240493e-06\n",
      "Epoch 700, Loss: 5.441975190478843e-06\n",
      "Epoch 800, Loss: 5.468636118166614e-06\n",
      "Epoch 900, Loss: 4.680474830820458e-06\n"
     ]
    }
   ],
   "source": [
    "state_dim = 100 #@param\n",
    "lds =  LDS(state_dim, d_model, d_model).to(device)\n",
    "optimizer = torch.optim.Adam(lds.parameters(), lr = 0.005)\n",
    "lds_epochs = 1000\n",
    "lds_loss_values = []\n",
    "\n",
    "for epoch in range(lds_epochs):\n",
    "    inputs = torch.randn(1, sl, d_model).to(device)\n",
    "    stu_outputs = stu_layers[0](inputs).to(device)\n",
    "\n",
    "    optimizer.zero_grad()\n",
    "    loss = lds.compute_loss(inputs, stu_outputs)\n",
    "    loss.backward()\n",
    "    torch.nn.utils.clip_grad_norm_(lds.parameters(), max_norm=1)\n",
    "    lds_loss_values.append(loss.item())\n",
    "    optimizer.step()\n",
    "\n",
    "    with torch.no_grad():\n",
    "        lds.A.data.clamp_(max=1, min = -1)\n",
    "\n",
    "    if epoch % 100 == 0:\n",
    "        print(f'Epoch {epoch}, Loss: {loss.item()}')"
   ]
  },
  {
   "cell_type": "code",
   "execution_count": 18,
   "metadata": {},
   "outputs": [
    {
     "data": {
      "text/plain": [
       "[tensor(-0.7906, device='cuda:0'),\n",
       " tensor(-0.7516, device='cuda:0'),\n",
       " tensor(-0.7484, device='cuda:0'),\n",
       " tensor(-0.7288, device='cuda:0'),\n",
       " tensor(-0.7060, device='cuda:0'),\n",
       " tensor(-0.7059, device='cuda:0'),\n",
       " tensor(-0.7017, device='cuda:0'),\n",
       " tensor(-0.6944, device='cuda:0'),\n",
       " tensor(-0.6883, device='cuda:0'),\n",
       " tensor(-0.6663, device='cuda:0'),\n",
       " tensor(-0.6621, device='cuda:0'),\n",
       " tensor(-0.6470, device='cuda:0'),\n",
       " tensor(-0.6418, device='cuda:0'),\n",
       " tensor(-0.6390, device='cuda:0'),\n",
       " tensor(-0.6299, device='cuda:0'),\n",
       " tensor(-0.6297, device='cuda:0'),\n",
       " tensor(-0.6157, device='cuda:0'),\n",
       " tensor(-0.5998, device='cuda:0'),\n",
       " tensor(-0.5950, device='cuda:0'),\n",
       " tensor(-0.5860, device='cuda:0'),\n",
       " tensor(-0.4974, device='cuda:0'),\n",
       " tensor(-0.4957, device='cuda:0'),\n",
       " tensor(-0.4718, device='cuda:0'),\n",
       " tensor(-0.4506, device='cuda:0'),\n",
       " tensor(-0.4120, device='cuda:0'),\n",
       " tensor(-0.3232, device='cuda:0'),\n",
       " tensor(-0.3055, device='cuda:0'),\n",
       " tensor(-0.2943, device='cuda:0'),\n",
       " tensor(-0.2802, device='cuda:0'),\n",
       " tensor(-0.2255, device='cuda:0'),\n",
       " tensor(-0.2131, device='cuda:0'),\n",
       " tensor(-0.1931, device='cuda:0'),\n",
       " tensor(-0.1863, device='cuda:0'),\n",
       " tensor(-0.1861, device='cuda:0'),\n",
       " tensor(-0.1734, device='cuda:0'),\n",
       " tensor(-0.1442, device='cuda:0'),\n",
       " tensor(-0.0881, device='cuda:0'),\n",
       " tensor(-0.0867, device='cuda:0'),\n",
       " tensor(-0.0840, device='cuda:0'),\n",
       " tensor(-0.0772, device='cuda:0'),\n",
       " tensor(-0.0666, device='cuda:0'),\n",
       " tensor(-0.0596, device='cuda:0'),\n",
       " tensor(-0.0560, device='cuda:0'),\n",
       " tensor(-0.0506, device='cuda:0'),\n",
       " tensor(-0.0252, device='cuda:0'),\n",
       " tensor(-0.0181, device='cuda:0'),\n",
       " tensor(-0.0169, device='cuda:0'),\n",
       " tensor(0.0033, device='cuda:0'),\n",
       " tensor(0.0054, device='cuda:0'),\n",
       " tensor(0.0194, device='cuda:0'),\n",
       " tensor(0.0245, device='cuda:0'),\n",
       " tensor(0.0309, device='cuda:0'),\n",
       " tensor(0.0387, device='cuda:0'),\n",
       " tensor(0.0588, device='cuda:0'),\n",
       " tensor(0.0710, device='cuda:0'),\n",
       " tensor(0.0711, device='cuda:0'),\n",
       " tensor(0.0732, device='cuda:0'),\n",
       " tensor(0.0740, device='cuda:0'),\n",
       " tensor(0.0744, device='cuda:0'),\n",
       " tensor(0.0796, device='cuda:0'),\n",
       " tensor(0.0930, device='cuda:0'),\n",
       " tensor(0.1004, device='cuda:0'),\n",
       " tensor(0.1068, device='cuda:0'),\n",
       " tensor(0.1076, device='cuda:0'),\n",
       " tensor(0.1248, device='cuda:0'),\n",
       " tensor(0.1448, device='cuda:0'),\n",
       " tensor(0.1489, device='cuda:0'),\n",
       " tensor(0.1609, device='cuda:0'),\n",
       " tensor(0.2013, device='cuda:0'),\n",
       " tensor(0.2158, device='cuda:0'),\n",
       " tensor(0.2173, device='cuda:0'),\n",
       " tensor(0.2521, device='cuda:0'),\n",
       " tensor(0.3556, device='cuda:0'),\n",
       " tensor(0.3599, device='cuda:0'),\n",
       " tensor(0.3944, device='cuda:0'),\n",
       " tensor(0.3944, device='cuda:0'),\n",
       " tensor(0.3946, device='cuda:0'),\n",
       " tensor(0.4081, device='cuda:0'),\n",
       " tensor(0.4492, device='cuda:0'),\n",
       " tensor(0.5137, device='cuda:0'),\n",
       " tensor(0.5645, device='cuda:0'),\n",
       " tensor(0.5747, device='cuda:0'),\n",
       " tensor(0.5960, device='cuda:0'),\n",
       " tensor(0.6542, device='cuda:0'),\n",
       " tensor(0.6555, device='cuda:0'),\n",
       " tensor(0.6569, device='cuda:0'),\n",
       " tensor(0.6576, device='cuda:0'),\n",
       " tensor(0.6613, device='cuda:0'),\n",
       " tensor(0.6626, device='cuda:0'),\n",
       " tensor(0.6702, device='cuda:0'),\n",
       " tensor(0.6728, device='cuda:0'),\n",
       " tensor(0.6781, device='cuda:0'),\n",
       " tensor(0.6926, device='cuda:0'),\n",
       " tensor(0.7123, device='cuda:0'),\n",
       " tensor(0.7301, device='cuda:0'),\n",
       " tensor(0.7525, device='cuda:0'),\n",
       " tensor(0.7560, device='cuda:0'),\n",
       " tensor(0.7571, device='cuda:0'),\n",
       " tensor(0.7594, device='cuda:0'),\n",
       " tensor(0.9398, device='cuda:0')]"
      ]
     },
     "execution_count": 18,
     "metadata": {},
     "output_type": "execute_result"
    }
   ],
   "source": [
    "sorted(lds.A.data)"
   ]
  },
  {
   "cell_type": "code",
   "execution_count": 321,
   "metadata": {},
   "outputs": [],
   "source": [
    "#Import my code over for visualizing the STU kernel"
   ]
  },
  {
   "cell_type": "code",
   "execution_count": 20,
   "metadata": {},
   "outputs": [
    {
     "data": {
      "text/plain": [
       "[<matplotlib.lines.Line2D at 0x2294045c700>]"
      ]
     },
     "execution_count": 20,
     "metadata": {},
     "output_type": "execute_result"
    },
    {
     "data": {
      "image/png": "[encoded data removed]",
      "text/plain": [
       "<Figure size 640x480 with 1 Axes>"
      ]
     },
     "metadata": {},
     "output_type": "display_data"
    }
   ],
   "source": [
    "import matplotlib.pyplot as plt\n",
    "plt.plot(lds_loss_values)"
   ]
  },
  {
   "cell_type": "code",
   "execution_count": 21,
   "metadata": {},
   "outputs": [
    {
     "name": "stdout",
     "output_type": "stream",
     "text": [
      "Epoch 0, Loss: 0.012472540140151978\n",
      "Epoch 100, Loss: 2.2864671336719766e-05\n",
      "Epoch 200, Loss: 1.2120936844439711e-05\n",
      "Epoch 300, Loss: 9.178294931189157e-06\n",
      "Epoch 400, Loss: 7.001323865551967e-06\n",
      "Epoch 500, Loss: 6.299599590420257e-06\n",
      "Epoch 600, Loss: 5.396408596425317e-06\n",
      "Epoch 700, Loss: 5.619036528514698e-06\n",
      "Epoch 800, Loss: 4.912671101919841e-06\n",
      "Epoch 900, Loss: 5.09096526002395e-06\n"
     ]
    }
   ],
   "source": [
    "state_dim = 100 #@param\n",
    "lds2 =  LDS(state_dim, d_model, d_model).to(device)\n",
    "optimizer = torch.optim.Adam(lds2.parameters(), lr = 0.005)\n",
    "lds_epochs = 1000\n",
    "lds_loss_values2 = []\n",
    "\n",
    "for epoch in range(lds_epochs):\n",
    "    inputs = torch.randn(1, sl, d_model).to(device)\n",
    "    stu_outputs = stu_layers[1](inputs)\n",
    "\n",
    "    optimizer.zero_grad()\n",
    "    loss = lds2.compute_loss(inputs, stu_outputs)\n",
    "    loss.backward()\n",
    "    torch.nn.utils.clip_grad_norm_(lds2.parameters(), max_norm=1)\n",
    "    lds_loss_values2.append(loss.item())\n",
    "    optimizer.step()\n",
    "\n",
    "    with torch.no_grad():\n",
    "        lds2.A.data.clamp_(max=1, min = -1)\n",
    "\n",
    "    if epoch % 100 == 0:\n",
    "        print(f'Epoch {epoch}, Loss: {loss.item()}')"
   ]
  },
  {
   "cell_type": "code",
   "execution_count": 22,
   "metadata": {},
   "outputs": [
    {
     "name": "stdout",
     "output_type": "stream",
     "text": [
      "Epoch 0, Loss: 0.014044694602489471\n",
      "Epoch 100, Loss: 3.7337333196774125e-05\n",
      "Epoch 200, Loss: 1.831138251873199e-05\n",
      "Epoch 300, Loss: 1.3111139196553268e-05\n",
      "Epoch 400, Loss: 9.183905604004394e-06\n",
      "Epoch 500, Loss: 6.680995284114033e-06\n",
      "Epoch 600, Loss: 5.347592377802357e-06\n",
      "Epoch 700, Loss: 5.2280997806519736e-06\n",
      "Epoch 800, Loss: 4.6836007641104516e-06\n",
      "Epoch 900, Loss: 4.790817456523655e-06\n"
     ]
    }
   ],
   "source": [
    "state_dim = 100 #@param\n",
    "lds3 =  LDS(state_dim, d_model, d_model).to(device)\n",
    "optimizer = torch.optim.Adam(lds3.parameters(), lr = 0.005)\n",
    "lds_epochs = 1000\n",
    "lds_loss_values3 = []\n",
    "\n",
    "for epoch in range(lds_epochs):\n",
    "    inputs = torch.randn(1, sl, d_model).to(device)\n",
    "    stu_outputs = stu_layers[2](inputs)\n",
    "\n",
    "    optimizer.zero_grad()\n",
    "    loss = lds3.compute_loss(inputs, stu_outputs)\n",
    "    loss.backward()\n",
    "    torch.nn.utils.clip_grad_norm_(lds3.parameters(), max_norm=1)\n",
    "    lds_loss_values3.append(loss.item())\n",
    "    optimizer.step()\n",
    "\n",
    "    with torch.no_grad():\n",
    "        lds3.A.data.clamp_(max=1, min = -1)\n",
    "\n",
    "    if epoch % 100 == 0:\n",
    "        print(f'Epoch {epoch}, Loss: {loss.item()}')"
   ]
  },
  {
   "cell_type": "code",
   "execution_count": 26,
   "metadata": {},
   "outputs": [
    {
     "data": {
      "text/plain": [
       "[<matplotlib.lines.Line2D at 0x2294268e440>]"
      ]
     },
     "execution_count": 26,
     "metadata": {},
     "output_type": "execute_result"
    },
    {
     "data": {
      "image/png": "[encoded data removed]",
      "text/plain": [
       "<Figure size 640x480 with 1 Axes>"
      ]
     },
     "metadata": {},
     "output_type": "display_data"
    }
   ],
   "source": [
    "plt.plot(lds_loss_values3)"
   ]
  },
  {
   "cell_type": "code",
   "execution_count": 27,
   "metadata": {},
   "outputs": [
    {
     "name": "stdout",
     "output_type": "stream",
     "text": [
      "Epoch 0, Loss: 0.019592810422182083\n",
      "Epoch 100, Loss: 4.230400372762233e-05\n",
      "Epoch 200, Loss: 2.218291410827078e-05\n",
      "Epoch 300, Loss: 1.553153560962528e-05\n",
      "Epoch 400, Loss: 1.294273079111008e-05\n",
      "Epoch 500, Loss: 1.1305008229101077e-05\n",
      "Epoch 600, Loss: 8.866058124112897e-06\n",
      "Epoch 700, Loss: 8.090549272310454e-06\n",
      "Epoch 800, Loss: 7.62973832024727e-06\n",
      "Epoch 900, Loss: 7.414897481794469e-06\n"
     ]
    }
   ],
   "source": [
    "state_dim = 100 #@param\n",
    "lds4 =  LDS(state_dim, d_model, d_model).to(device)\n",
    "optimizer = torch.optim.Adam(lds4.parameters(), lr = 0.005)\n",
    "lds_epochs = 1000\n",
    "lds_loss_values4 = []\n",
    "\n",
    "for epoch in range(lds_epochs):\n",
    "    inputs = torch.randn(1, sl, d_model).to(device)\n",
    "    stu_outputs = stu_layers[3](inputs)\n",
    "\n",
    "    optimizer.zero_grad()\n",
    "    loss = lds4.compute_loss(inputs, stu_outputs)\n",
    "    loss.backward()\n",
    "    torch.nn.utils.clip_grad_norm_(lds4.parameters(), max_norm=1)\n",
    "    lds_loss_values4.append(loss.item())\n",
    "    optimizer.step()\n",
    "\n",
    "    with torch.no_grad():\n",
    "        lds4.A.data.clamp_(max=1, min = -1)\n",
    "\n",
    "    if epoch % 100 == 0:\n",
    "        print(f'Epoch {epoch}, Loss: {loss.item()}')"
   ]
  },
  {
   "cell_type": "code",
   "execution_count": 33,
   "metadata": {},
   "outputs": [
    {
     "data": {
      "text/plain": [
       "[<matplotlib.lines.Line2D at 0x2294297aef0>]"
      ]
     },
     "execution_count": 33,
     "metadata": {},
     "output_type": "execute_result"
    },
    {
     "data": {
      "image/png": "[encoded data removed]",
      "text/plain": [
       "<Figure size 640x480 with 1 Axes>"
      ]
     },
     "metadata": {},
     "output_type": "display_data"
    }
   ],
   "source": [
    "plt.plot(lds_loss_values4[100:])"
   ]
  },
  {
   "cell_type": "code",
   "execution_count": 34,
   "metadata": {},
   "outputs": [
    {
     "data": {
      "text/plain": [
       "SpectralSSM(\n",
       "  (loss_fn): Walker2DLoss(\n",
       "    (mse_loss): MSELoss()\n",
       "  )\n",
       "  (spectral_ssm): ModuleDict(\n",
       "    (dropout): Dropout(p=0.0, inplace=False)\n",
       "    (hidden): ModuleList(\n",
       "      (0-3): 4 x Block(\n",
       "        (rn_1): RMSNorm(dim=32, eps=1e-05, elementwise_affine=True)\n",
       "        (rn_2): RMSNorm(dim=32, eps=1e-05, elementwise_affine=True)\n",
       "        (stu): LDS()\n",
       "        (mlp): GatedMLP(\n",
       "          (fc_1): Linear(in_features=32, out_features=256, bias=False)\n",
       "          (fc_2): Linear(in_features=128, out_features=32, bias=False)\n",
       "          (silu): SiLU()\n",
       "          (dropout): Dropout(p=0.0, inplace=False)\n",
       "        )\n",
       "      )\n",
       "    )\n",
       "  )\n",
       "  (input_proj): Linear(in_features=24, out_features=32, bias=False)\n",
       "  (output_proj): Linear(in_features=32, out_features=18, bias=False)\n",
       ")"
      ]
     },
     "execution_count": 34,
     "metadata": {},
     "output_type": "execute_result"
    }
   ],
   "source": [
    "model2 = copy.deepcopy(model)\n",
    "\n",
    "model2.spectral_ssm['hidden'][0].stu = lds\n",
    "model2.spectral_ssm['hidden'][1].stu = lds2\n",
    "model2.spectral_ssm['hidden'][2].stu = lds3\n",
    "model2.spectral_ssm['hidden'][3].stu = lds4\n",
    "model2.to(device)"
   ]
  },
  {
   "cell_type": "code",
   "execution_count": 37,
   "metadata": {},
   "outputs": [
    {
     "name": "stderr",
     "output_type": "stream",
     "text": [
      "100%|██████████| 703/703 [02:14<00:00,  5.23it/s]"
     ]
    },
    {
     "name": "stdout",
     "output_type": "stream",
     "text": [
      "Validation Loss: 0.7074\n"
     ]
    },
    {
     "name": "stderr",
     "output_type": "stream",
     "text": [
      "\n"
     ]
    }
   ],
   "source": [
    "validation_loss = evaluate_model(model2, val_loader, loss_fn, device)\n",
    "print(f\"Validation Loss: {validation_loss:.4f}\")    "
   ]
  },
  {
   "cell_type": "code",
   "execution_count": 39,
   "metadata": {},
   "outputs": [],
   "source": [
    "class Identity(nn.Module):\n",
    "    def __init__(self):\n",
    "        super(Identity, self).__init__()\n",
    "\n",
    "    def forward(self, x):\n",
    "        return x"
   ]
  },
  {
   "cell_type": "code",
   "execution_count": 46,
   "metadata": {},
   "outputs": [],
   "source": [
    "class Zero(nn.Module):\n",
    "    def __init__(self):\n",
    "        super(Zero, self).__init__()\n",
    "\n",
    "    def forward(self, x):\n",
    "        return torch.zeros(x.shape).to(device)"
   ]
  },
  {
   "cell_type": "code",
   "execution_count": 47,
   "metadata": {},
   "outputs": [
    {
     "data": {
      "text/plain": [
       "SpectralSSM(\n",
       "  (loss_fn): Walker2DLoss(\n",
       "    (mse_loss): MSELoss()\n",
       "  )\n",
       "  (spectral_ssm): ModuleDict(\n",
       "    (dropout): Dropout(p=0.0, inplace=False)\n",
       "    (hidden): ModuleList(\n",
       "      (0-3): 4 x Block(\n",
       "        (rn_1): RMSNorm(dim=32, eps=1e-05, elementwise_affine=True)\n",
       "        (rn_2): RMSNorm(dim=32, eps=1e-05, elementwise_affine=True)\n",
       "        (stu): Identity()\n",
       "        (mlp): GatedMLP(\n",
       "          (fc_1): Linear(in_features=32, out_features=256, bias=False)\n",
       "          (fc_2): Linear(in_features=128, out_features=32, bias=False)\n",
       "          (silu): SiLU()\n",
       "          (dropout): Dropout(p=0.0, inplace=False)\n",
       "        )\n",
       "      )\n",
       "    )\n",
       "  )\n",
       "  (input_proj): Linear(in_features=24, out_features=32, bias=False)\n",
       "  (output_proj): Linear(in_features=32, out_features=18, bias=False)\n",
       ")"
      ]
     },
     "execution_count": 47,
     "metadata": {},
     "output_type": "execute_result"
    }
   ],
   "source": [
    "model3 = copy.deepcopy(model)\n",
    "\n",
    "model3.spectral_ssm['hidden'][0].stu = Identity()\n",
    "model3.spectral_ssm['hidden'][1].stu = Identity()\n",
    "model3.spectral_ssm['hidden'][2].stu = Identity()\n",
    "model3.spectral_ssm['hidden'][3].stu = Identity()\n",
    "model3.to(device)"
   ]
  },
  {
   "cell_type": "code",
   "execution_count": 48,
   "metadata": {},
   "outputs": [
    {
     "name": "stderr",
     "output_type": "stream",
     "text": [
      "100%|██████████| 703/703 [00:02<00:00, 263.70it/s]"
     ]
    },
    {
     "name": "stdout",
     "output_type": "stream",
     "text": [
      "Validation Loss: 5.8028\n"
     ]
    },
    {
     "name": "stderr",
     "output_type": "stream",
     "text": [
      "\n"
     ]
    }
   ],
   "source": [
    "validation_loss = evaluate_model(model3, val_loader, loss_fn, device)\n",
    "print(f\"Validation Loss: {validation_loss:.4f}\")    "
   ]
  },
  {
   "cell_type": "code",
   "execution_count": 49,
   "metadata": {},
   "outputs": [
    {
     "data": {
      "text/plain": [
       "SpectralSSM(\n",
       "  (loss_fn): Walker2DLoss(\n",
       "    (mse_loss): MSELoss()\n",
       "  )\n",
       "  (spectral_ssm): ModuleDict(\n",
       "    (dropout): Dropout(p=0.0, inplace=False)\n",
       "    (hidden): ModuleList(\n",
       "      (0-3): 4 x Block(\n",
       "        (rn_1): RMSNorm(dim=32, eps=1e-05, elementwise_affine=True)\n",
       "        (rn_2): RMSNorm(dim=32, eps=1e-05, elementwise_affine=True)\n",
       "        (stu): Zero()\n",
       "        (mlp): GatedMLP(\n",
       "          (fc_1): Linear(in_features=32, out_features=256, bias=False)\n",
       "          (fc_2): Linear(in_features=128, out_features=32, bias=False)\n",
       "          (silu): SiLU()\n",
       "          (dropout): Dropout(p=0.0, inplace=False)\n",
       "        )\n",
       "      )\n",
       "    )\n",
       "  )\n",
       "  (input_proj): Linear(in_features=24, out_features=32, bias=False)\n",
       "  (output_proj): Linear(in_features=32, out_features=18, bias=False)\n",
       ")"
      ]
     },
     "execution_count": 49,
     "metadata": {},
     "output_type": "execute_result"
    }
   ],
   "source": [
    "model3 = copy.deepcopy(model)\n",
    "\n",
    "model3.spectral_ssm['hidden'][0].stu = Zero()\n",
    "model3.spectral_ssm['hidden'][1].stu = Zero()\n",
    "model3.spectral_ssm['hidden'][2].stu = Zero()\n",
    "model3.spectral_ssm['hidden'][3].stu = Zero()\n",
    "model3.to(device)"
   ]
  },
  {
   "cell_type": "code",
   "execution_count": 50,
   "metadata": {},
   "outputs": [
    {
     "name": "stderr",
     "output_type": "stream",
     "text": [
      "100%|██████████| 703/703 [00:03<00:00, 230.49it/s]"
     ]
    },
    {
     "name": "stdout",
     "output_type": "stream",
     "text": [
      "Validation Loss: 0.7918\n"
     ]
    },
    {
     "name": "stderr",
     "output_type": "stream",
     "text": [
      "\n"
     ]
    }
   ],
   "source": [
    "validation_loss = evaluate_model(model3, val_loader, loss_fn, device)\n",
    "print(f\"Validation Loss: {validation_loss:.4f}\")    "
   ]
  },
  {
   "cell_type": "code",
   "execution_count": null,
   "metadata": {},
   "outputs": [
    {
     "name": "stderr",
     "output_type": "stream",
     "text": [
      "100%|██████████| 703/703 [00:03<00:00, 230.49it/s]"
     ]
    },
    {
     "name": "stdout",
     "output_type": "stream",
     "text": [
      "Validation Loss: 0.7918\n"
     ]
    },
    {
     "name": "stderr",
     "output_type": "stream",
     "text": [
      "\n"
     ]
    }
   ],
   "source": [
    "validation_loss = evaluate_model(model3, val_loader, loss_fn, device)\n",
    "print(f\"Validation Loss: {validation_loss:.4f}\")    "
   ]
  }
 ],
 "metadata": {
  "colab": {
   "provenance": []
  },
  "kernelspec": {
   "display_name": "sssm",
   "language": "python",
   "name": "python3"
  },
  "language_info": {
   "codemirror_mode": {
    "name": "ipython",
    "version": 3
   },
   "file_extension": ".py",
   "mimetype": "text/x-python",
   "name": "python",
   "nbconvert_exporter": "python",
   "pygments_lexer": "ipython3",
   "version": "3.10.15"
  }
 },
 "nbformat": 4,
 "nbformat_minor": 0
}
