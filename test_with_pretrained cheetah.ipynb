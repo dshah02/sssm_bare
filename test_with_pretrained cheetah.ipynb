{
 "cells": [
  {
   "cell_type": "code",
   "execution_count": 1,
   "metadata": {},
   "outputs": [],
   "source": [
    "import torch"
   ]
  },
  {
   "cell_type": "code",
   "execution_count": 3,
   "metadata": {},
   "outputs": [],
   "source": [
    "from model import SpectralSSM\n",
    "from model import SpectralSSMConfigs\n",
    "d_in=  24\n",
    "d_out = 18\n",
    "sl = 512\n",
    "\n",
    "n_layers: int = 4\n",
    "d_model: int = 32\n",
    "embd_scale: int = 1\n",
    "mlp_scale: int = 4\n",
    "bias: bool = False\n",
    "dropout: float = 0.0\n",
    "num_eigh: int = 16\n",
    "k_y: int = 2\n",
    "k_u: int = 3\n",
    "learnable_m_y: bool = False\n",
    "alpha: float = 0.9  # 0.9 deemed \"uniformly optimal\" in the paper\n",
    "use_ar_y: bool = False\n",
    "use_ar_u: bool = False\n",
    "use_hankel_L: bool = False\n",
    "use_flash_fft: bool = False\n",
    "use_approx: bool = True\n",
    "\n",
    "# MoE\n",
    "moe: bool = False\n",
    "num_experts: int = 3\n",
    "num_experts_per_timestep: int = 2\n",
    "\n",
    "#residual\n",
    "num_models= 2"
   ]
  },
  {
   "cell_type": "code",
   "execution_count": 4,
   "metadata": {},
   "outputs": [],
   "source": [
    "from losses.loss_cheetah import HalfCheetahLoss\n",
    "loss_fn= HalfCheetahLoss()\n",
    "device = torch.device(\"cuda\" if torch.cuda.is_available() else \"cpu\")\n",
    "\n",
    "configs = SpectralSSMConfigs(\n",
    "        n_layers=n_layers,\n",
    "        d_model=d_model,\n",
    "        d_in=d_in,\n",
    "        d_out=d_out,\n",
    "        sl=sl,\n",
    "        mlp_scale=mlp_scale,\n",
    "        embd_scale=embd_scale,\n",
    "        bias=bias,\n",
    "        dropout=dropout,\n",
    "        num_eigh=num_eigh,\n",
    "        k_y=k_y,\n",
    "        k_u=k_u,\n",
    "        learnable_m_y=learnable_m_y,\n",
    "        alpha=alpha,\n",
    "        use_ar_y=use_ar_y,\n",
    "        use_ar_u=use_ar_u,\n",
    "        use_hankel_L=use_hankel_L,\n",
    "        use_flash_fft=use_flash_fft,\n",
    "        use_approx=use_approx,\n",
    "        num_models=num_models,\n",
    "\n",
    "        # MoE\n",
    "        moe=moe,\n",
    "        num_experts=num_experts,\n",
    "        num_experts_per_timestep=num_experts_per_timestep,\n",
    "\n",
    "        loss_fn=loss_fn,\n",
    "        controls={\"task\": 'mujoco-v1', \"controller\": 'HalfCheetah-v1'},\n",
    "        device=device,\n",
    "    )"
   ]
  },
  {
   "cell_type": "code",
   "execution_count": 5,
   "metadata": {},
   "outputs": [
    {
     "name": "stderr",
     "output_type": "stream",
     "text": [
      "C:\\Users\\devan\\AppData\\Local\\Temp\\ipykernel_25936\\2740754221.py:1: FutureWarning: You are using `torch.load` with `weights_only=False` (the current default value), which uses the default pickle module implicitly. It is possible to construct malicious pickle data which will execute arbitrary code during unpickling (See https://github.com/pytorch/pytorch/blob/main/SECURITY.md#untrusted-models for more details). In a future release, the default value for `weights_only` will be flipped to `True`. This limits the functions that could be executed during unpickling. Arbitrary objects will no longer be allowed to be loaded via this mode unless they are explicitly allowlisted by the user via `torch.serialization.add_safe_globals`. We recommend you start setting `weights_only=True` for any use case where you don't have full control of the loaded file. Please open an issue on GitHub for any issues related to this experimental feature.\n",
      "  state_dict = torch.load(\"checkpoints\\sssm-HalfCheetah-v1-model_step-1155-2024-11-19-13-01-52.pt\", map_location=\"cpu\")\n"
     ]
    }
   ],
   "source": [
    "state_dict = torch.load(\"checkpoints\\sssm-HalfCheetah-v1-model_step-1155-2024-11-19-13-01-52.pt\", map_location=\"cpu\")"
   ]
  },
  {
   "cell_type": "code",
   "execution_count": 6,
   "metadata": {},
   "outputs": [
    {
     "name": "stdout",
     "output_type": "stream",
     "text": [
      "\u001b[94m\n",
      "Creating dataloader on cuda for task: mujoco-v1\u001b[0m\n",
      "Using sequence length: 512\n",
      "\n",
      "Apply Gaussian noise to data?: Enabled | Using noise=0.5, noise_frequency=0.1\n",
      "\u001b[94m\n",
      "Calculating data statistics...\u001b[0m\n",
      "\u001b[94mNormalizing data...\u001b[0m\n",
      "\u001b[94mValidating data normalization...\u001b[0m\n",
      "\u001b[92m\n",
      "Normalized mean of inputs for coordinates: [-0.00016795  0.00047025]\u001b[0m\n",
      "\u001b[92mNormalized standard deviation of inputs for coordinates: [0.99991972 1.20162933]\u001b[0m\n",
      "\u001b[92mNormalized mean of targets for coordinates: [ 0.00016795 -0.00047025]\u001b[0m\n",
      "\u001b[92mNormalized standard deviation of targets for coordinates: [1.00007957 0.74555242]\u001b[0m\n",
      "\u001b[92m\n",
      "Normalized mean of inputs for angles: [-3.76965928e-04 -7.88996113e-05 -1.37183299e-04 -8.55396242e-05\n",
      "  1.74482870e-04  5.30061244e-05  4.62259193e-04]\u001b[0m\n",
      "\u001b[92mNormalized standard deviation of inputs for angles: [1.01615393 1.0301879  1.01916199 1.09289481 1.03267693 1.05445382\n",
      " 1.12007815]\u001b[0m\n",
      "\u001b[92mNormalized mean of targets for angles: [ 3.76965928e-04  7.88996113e-05  1.37183299e-04  8.55396242e-05\n",
      " -1.74482870e-04 -5.30061244e-05 -4.62259193e-04]\u001b[0m\n",
      "\u001b[92mNormalized standard deviation of targets for angles: [0.98354839 0.96882641 0.98042765 0.89745404 0.96617099 0.94234147\n",
      " 0.8632755 ]\u001b[0m\n",
      "\u001b[92m\n",
      "Normalized mean of inputs for coordinate_velocities: [-6.02066141e-05 -6.17429047e-05]\u001b[0m\n",
      "\u001b[92mNormalized standard deviation of inputs for coordinate_velocities: [1.00231118 1.01118243]\u001b[0m\n",
      "\u001b[92mNormalized mean of targets for coordinate_velocities: [6.02066141e-05 6.17429047e-05]\u001b[0m\n",
      "\u001b[92mNormalized standard deviation of targets for coordinate_velocities: [0.99767114 0.98866393]\u001b[0m\n",
      "\u001b[92m\n",
      "Normalized mean of inputs for angular_velocities: [ 8.19091854e-05 -8.89951671e-06 -2.31164778e-06  1.06148173e-06\n",
      " -1.05944630e-05  7.44014585e-06 -7.66155734e-06]\u001b[0m\n",
      "\u001b[92mNormalized standard deviation of inputs for angular_velocities: [1.00517391 1.00002074 1.00000029 1.00012548 0.9999796  1.0001334\n",
      " 1.00034659]\u001b[0m\n",
      "\u001b[92mNormalized mean of targets for angular_velocities: [-8.19091854e-05  8.89951671e-06  2.31164778e-06 -1.06148173e-06\n",
      "  1.05944630e-05 -7.44014585e-06  7.66155734e-06]\u001b[0m\n",
      "\u001b[92mNormalized standard deviation of targets for angular_velocities: [0.99478107 0.99997764 0.99999844 0.99987142 1.00001879 0.99986406\n",
      " 0.99964886]\u001b[0m\n",
      "\u001b[92m\n",
      "Normalized mean of inputs for torque: [ 1.03576431e-16  3.94991081e-17 -3.60770301e-17  1.30298797e-16\n",
      " -1.85207513e-16  1.47866592e-17]\u001b[0m\n",
      "\u001b[92mNormalized standard deviation of inputs for torque: [0.99998837 0.99999002 0.99997928 0.99998775 0.99998719 0.99996546]\u001b[0m\n",
      "\u001b[1m\u001b[92mData normalization validated successfully.\u001b[0m\n",
      "\u001b[92mDataloader created successfully.\u001b[0m\n",
      "\u001b[94m\n",
      "Creating dataloader on cuda for task: mujoco-v1\u001b[0m\n",
      "Using sequence length: 512\n",
      "\n",
      "Apply Gaussian noise to data?: Enabled | Using noise=0.5, noise_frequency=0.1\n",
      "\u001b[94m\n",
      "Calculating data statistics...\u001b[0m\n",
      "\u001b[94mNormalizing data...\u001b[0m\n",
      "\u001b[94mValidating data normalization...\u001b[0m\n",
      "\u001b[92m\n",
      "Normalized mean of inputs for coordinates: [ 0.00067266 -0.00117112]\u001b[0m\n",
      "\u001b[92mNormalized standard deviation of inputs for coordinates: [1.00035238 1.2013615 ]\u001b[0m\n",
      "\u001b[92mNormalized mean of targets for coordinates: [-0.00067266  0.00117112]\u001b[0m\n",
      "\u001b[92mNormalized standard deviation of targets for coordinates: [0.99964637 0.74598199]\u001b[0m\n",
      "\u001b[92m\n",
      "Normalized mean of inputs for angles: [ 1.29943059e-03  2.32217217e-04 -5.98987569e-05 -1.36240275e-04\n",
      " -5.96108055e-04 -9.07157872e-05  8.55842877e-04]\u001b[0m\n",
      "\u001b[92mNormalized standard deviation of inputs for angles: [1.01249573 1.03005878 1.01882043 1.09199899 1.03196358 1.05433447\n",
      " 1.11806263]\u001b[0m\n",
      "\u001b[92mNormalized mean of targets for angles: [-1.29943059e-03 -2.32217217e-04  5.98987569e-05  1.36240275e-04\n",
      "  5.96108055e-04  9.07157872e-05 -8.55842877e-04]\u001b[0m\n",
      "\u001b[92mNormalized standard deviation of targets for angles: [0.98731219 0.96896365 0.98078258 0.89854377 0.96693248 0.94247499\n",
      " 0.86588342]\u001b[0m\n",
      "\u001b[92m\n",
      "Normalized mean of inputs for coordinate_velocities: [0.00021371 0.00021183]\u001b[0m\n",
      "\u001b[92mNormalized standard deviation of inputs for coordinate_velocities: [1.00234208 1.01173134]\u001b[0m\n",
      "\u001b[92mNormalized mean of targets for coordinate_velocities: [-0.00021371 -0.00021183]\u001b[0m\n",
      "\u001b[92mNormalized standard deviation of targets for coordinate_velocities: [0.99764004 0.98810218]\u001b[0m\n",
      "\u001b[92m\n",
      "Normalized mean of inputs for angular_velocities: [-4.69518389e-04  4.25479416e-05 -6.82534186e-06  1.22418995e-05\n",
      "  2.63742337e-05  8.71505348e-06 -1.14200326e-04]\u001b[0m\n",
      "\u001b[92mNormalized standard deviation of inputs for angular_velocities: [1.0045229  1.00009346 1.00011585 1.00022898 1.00031034 1.00001814\n",
      " 1.00016028]\u001b[0m\n",
      "\u001b[92mNormalized mean of targets for angular_velocities: [ 4.69518389e-04 -4.25479416e-05  6.82534186e-06 -1.22418995e-05\n",
      " -2.63742337e-05 -8.71505348e-06  1.14200326e-04]\u001b[0m\n",
      "\u001b[92mNormalized standard deviation of targets for angular_velocities: [0.99543824 0.99990491 0.99988287 0.99976789 0.99968796 0.99997935\n",
      " 0.99983524]\u001b[0m\n",
      "\u001b[92m\n",
      "Normalized mean of inputs for torque: [-1.51822460e-16  1.00844180e-16  1.34692689e-17  6.05455995e-17\n",
      "  3.38025185e-17 -3.58720604e-18]\u001b[0m\n",
      "\u001b[92mNormalized standard deviation of inputs for torque: [0.99998837 0.99999002 0.99997929 0.99998775 0.99998719 0.9999654 ]\u001b[0m\n",
      "\u001b[1m\u001b[92mData normalization validated successfully.\u001b[0m\n",
      "\u001b[92mDataloader created successfully.\u001b[0m\n"
     ]
    }
   ],
   "source": [
    "controller = 'HalfCheetah-v1' #@param\n",
    "train_data = {\n",
    "    \"inputs\": f\"data/mujoco-v1/{controller}/train_inputs.npy\",\n",
    "    \"targets\": f\"data/mujoco-v1/{controller}/train_targets.npy\",\n",
    "}\n",
    "val_data = {\n",
    "    \"inputs\": f\"data/mujoco-v1/{controller}/val_inputs.npy\",\n",
    "    \"targets\": f\"data/mujoco-v1/{controller}/val_targets.npy\",\n",
    "}\n",
    "\n",
    "bsz =1\n",
    "\n",
    "from utils.dataloader import get_dataloader \n",
    "\n",
    "train_loader = get_dataloader(\n",
    "    model  = 'spectral_ssm',\n",
    "    data = train_data,\n",
    "    task = 'mujoco-v1',\n",
    "    controller = controller,\n",
    "    bsz  = bsz,\n",
    "    preprocess =  True, #normalize\n",
    "    shuffle= True,\n",
    "    sl = sl,\n",
    "    device = device,\n",
    "    shift = 1,\n",
    "    eps = 1e-5,\n",
    "    noise = 0.5,\n",
    "    noise_frequency = 0.1\n",
    ")\n",
    "\n",
    "val_loader = get_dataloader(\n",
    "    model  = 'spectral_ssm',\n",
    "    data = val_data,\n",
    "    task = 'mujoco-v1',\n",
    "    controller =  controller,\n",
    "    bsz = bsz,\n",
    "    preprocess =  True, #normalize\n",
    "    shuffle= True,\n",
    "    sl = sl,\n",
    "    device = device,\n",
    "    shift = 1,\n",
    "    eps = 1e-5,\n",
    "    noise = 0.5,\n",
    "    noise_frequency = 0.1,\n",
    ")"
   ]
  },
  {
   "cell_type": "code",
   "execution_count": 7,
   "metadata": {},
   "outputs": [
    {
     "name": "stdout",
     "output_type": "stream",
     "text": [
      "Top 10 parameter groups:\n",
      "1. spectral_ssm.hidden.0.mlp.fc_1.weight: 8,192 parameters\n",
      "2. spectral_ssm.hidden.1.mlp.fc_1.weight: 8,192 parameters\n",
      "3. spectral_ssm.hidden.2.mlp.fc_1.weight: 8,192 parameters\n",
      "4. spectral_ssm.hidden.3.mlp.fc_1.weight: 8,192 parameters\n",
      "5. spectral_ssm.hidden.0.mlp.fc_2.weight: 4,096 parameters\n",
      "6. spectral_ssm.hidden.1.mlp.fc_2.weight: 4,096 parameters\n",
      "7. spectral_ssm.hidden.2.mlp.fc_2.weight: 4,096 parameters\n",
      "8. spectral_ssm.hidden.3.mlp.fc_2.weight: 4,096 parameters\n",
      "9. spectral_ssm.hidden.0.stu.M_inputs: 1,024 parameters\n",
      "10. spectral_ssm.hidden.1.stu.M_inputs: 1,024 parameters\n",
      "\n",
      "STU Model Parameter Count: 0.06M\n"
     ]
    },
    {
     "data": {
      "text/plain": [
       "<All keys matched successfully>"
      ]
     },
     "execution_count": 7,
     "metadata": {},
     "output_type": "execute_result"
    }
   ],
   "source": [
    "model = SpectralSSM(configs).to(device)\n",
    "model.load_state_dict(state_dict)"
   ]
  },
  {
   "cell_type": "code",
   "execution_count": 8,
   "metadata": {},
   "outputs": [
    {
     "name": "stderr",
     "output_type": "stream",
     "text": [
      "100%|██████████| 618/618 [00:03<00:00, 160.11it/s]"
     ]
    },
    {
     "name": "stdout",
     "output_type": "stream",
     "text": [
      "Validation Loss: 0.8326\n"
     ]
    },
    {
     "name": "stderr",
     "output_type": "stream",
     "text": [
      "\n"
     ]
    }
   ],
   "source": [
    "import tqdm\n",
    "def evaluate_model(model, val_loader, loss_fn, device):\n",
    "    model.eval()  # Set the model to evaluation mode\n",
    "    val_loss = 0.0\n",
    "\n",
    "    with torch.no_grad():  # Ensure no gradients are calculated during validation\n",
    "        for val_inputs, val_targets in tqdm.tqdm(val_loader):\n",
    "            val_inputs, val_targets = val_inputs.to(device), val_targets.to(device)\n",
    "            val_outputs, _ = model(val_inputs,  None)\n",
    "            loss, _ = loss_fn(val_outputs, val_targets)  # Assume metrics return is not needed here\n",
    "            val_loss += loss.item()\n",
    "\n",
    "    val_loss /= len(val_loader)  # Average the validation loss\n",
    "    return val_loss\n",
    "\n",
    "\n",
    "validation_loss = evaluate_model(model, val_loader, loss_fn, device)\n",
    "print(f\"Validation Loss: {validation_loss:.4f}\")\n"
   ]
  },
  {
   "cell_type": "code",
   "execution_count": 9,
   "metadata": {},
   "outputs": [
    {
     "data": {
      "text/plain": [
       "Block(\n",
       "  (rn_1): RMSNorm(dim=32, eps=1e-05, elementwise_affine=True)\n",
       "  (rn_2): RMSNorm(dim=32, eps=1e-05, elementwise_affine=True)\n",
       "  (stu): STU()\n",
       "  (mlp): GatedMLP(\n",
       "    (fc_1): Linear(in_features=32, out_features=256, bias=False)\n",
       "    (fc_2): Linear(in_features=128, out_features=32, bias=False)\n",
       "    (silu): SiLU()\n",
       "    (dropout): Dropout(p=0.0, inplace=False)\n",
       "  )\n",
       ")"
      ]
     },
     "execution_count": 9,
     "metadata": {},
     "output_type": "execute_result"
    }
   ],
   "source": [
    "model.spectral_ssm['hidden'][0]"
   ]
  },
  {
   "cell_type": "code",
   "execution_count": 10,
   "metadata": {},
   "outputs": [],
   "source": [
    "import  copy\n",
    "stu_layers = [copy.deepcopy(block.stu) for block in model.spectral_ssm['hidden']]"
   ]
  },
  {
   "cell_type": "code",
   "execution_count": 11,
   "metadata": {},
   "outputs": [
    {
     "data": {
      "text/plain": [
       "4"
      ]
     },
     "execution_count": 11,
     "metadata": {},
     "output_type": "execute_result"
    }
   ],
   "source": [
    "len(stu_layers)"
   ]
  },
  {
   "cell_type": "code",
   "execution_count": 12,
   "metadata": {},
   "outputs": [],
   "source": [
    "from torch import nn "
   ]
  },
  {
   "cell_type": "code",
   "execution_count": 13,
   "metadata": {},
   "outputs": [],
   "source": [
    "class LDS(nn.Module):\n",
    "    def __init__(self, state_dim, input_dim, output_dim):\n",
    "        super(LDS, self).__init__()\n",
    "        \n",
    "        self.d_out = output_dim\n",
    "\n",
    "        self.h0 = nn.Parameter(torch.randn(state_dim))\n",
    "        # self.A = nn.Parameter(torch.clip(torch.randn(state_dim), -.7, 0.7))\n",
    "        init_A = torch.randn(state_dim)\n",
    "        self.A = nn.Parameter(init_A/torch.max(torch.abs(init_A)))\n",
    "        self.B = nn.Parameter(torch.randn(input_dim, state_dim) / input_dim)\n",
    "        self.C = nn.Parameter(torch.randn(state_dim,output_dim) / state_dim)\n",
    "        self.D = nn.Parameter(torch.randn(input_dim,output_dim) / output_dim) #keep for more complex systems\n",
    "\n",
    "        self.M = nn.Parameter(torch.randn(output_dim, output_dim) / output_dim) #autoregressive\n",
    "    def forward(self, inputs):\n",
    "        bsz, seq_len, _ = inputs.shape\n",
    "        h_t = self.h0.expand(bsz, self.h0.shape[0]).to(device)  # Ensure h0 is on the correct device\n",
    "        outputs = []\n",
    "        A = self.A.flatten()\n",
    "\n",
    "        # Store all intermediate h_t states\n",
    "        all_h_t = []\n",
    "\n",
    "        for t in range(seq_len):\n",
    "            u_t = inputs[:, t, :]  # Get input for all batches at time t\n",
    "            h_t = A * h_t + u_t @ self.B  # Update hidden states for all batches\n",
    "            all_h_t.append(h_t.unsqueeze(1))  # Store the updated h_t for each time step\n",
    "\n",
    "        # Concatenate all h_t states along the time dimension\n",
    "        all_h_t = torch.cat(all_h_t, dim=1)\n",
    "\n",
    "        # Apply C to all concatenated h_t states at once\n",
    "        outputs = torch.matmul(all_h_t, self.C)\n",
    "\n",
    "        return outputs\n",
    "\n",
    "\n",
    "    def compute_loss(self, inputs, targets):\n",
    "        mse_loss = nn.MSELoss()\n",
    "        outputs = self(inputs)\n",
    "        return mse_loss(outputs, targets)"
   ]
  },
  {
   "cell_type": "code",
   "execution_count": 14,
   "metadata": {},
   "outputs": [
    {
     "data": {
      "text/plain": [
       "tensor([[[ 0.4090,  0.0449, -0.0550,  ..., -0.0006,  0.0200, -0.1015],\n",
       "         [-0.0948, -0.0514, -0.3566,  ..., -0.0012,  0.0407,  0.0122],\n",
       "         [ 0.4314,  0.0523, -0.2804,  ...,  0.0018,  0.0500, -0.0651],\n",
       "         ...,\n",
       "         [-0.0141, -0.0314,  0.0669,  ..., -0.0012,  0.0072, -0.0545],\n",
       "         [ 0.0999,  0.0955,  0.1317,  ...,  0.0176, -0.0106, -0.0438],\n",
       "         [ 0.0637,  0.0909,  0.3360,  ...,  0.0075, -0.0376,  0.0199]]],\n",
       "       device='cuda:0', grad_fn=<AddBackward0>)"
      ]
     },
     "execution_count": 14,
     "metadata": {},
     "output_type": "execute_result"
    }
   ],
   "source": [
    "inputs = torch.randn(1, sl, d_model).to(device)\n",
    "stu_layers[0](inputs)"
   ]
  },
  {
   "cell_type": "code",
   "execution_count": 15,
   "metadata": {},
   "outputs": [
    {
     "data": {
      "text/plain": [
       "tensor([[[-0.1387,  0.0198, -0.3361,  ...,  0.0607, -0.0187, -0.0148],\n",
       "         [-0.1168, -0.0063,  0.0673,  ...,  0.0035,  0.1087, -0.0058],\n",
       "         [-0.0656, -0.0600, -0.3270,  ...,  0.0615, -0.1028, -0.0175],\n",
       "         ...,\n",
       "         [ 0.0323,  0.0396,  0.0216,  ...,  0.0194, -0.0103, -0.0264],\n",
       "         [ 0.0057, -0.0101,  0.1354,  ..., -0.0654, -0.0791,  0.0308],\n",
       "         [ 0.0241,  0.0150,  0.1279,  ...,  0.1212,  0.0071,  0.0155]]],\n",
       "       device='cuda:0', grad_fn=<AddBackward0>)"
      ]
     },
     "execution_count": 15,
     "metadata": {},
     "output_type": "execute_result"
    }
   ],
   "source": [
    "stu_layers[1](inputs)"
   ]
  },
  {
   "cell_type": "code",
   "execution_count": 16,
   "metadata": {},
   "outputs": [
    {
     "data": {
      "text/plain": [
       "SpectralSSM(\n",
       "  (loss_fn): HalfCheetahLoss(\n",
       "    (mse_loss): MSELoss()\n",
       "  )\n",
       "  (spectral_ssm): ModuleDict(\n",
       "    (dropout): Dropout(p=0.0, inplace=False)\n",
       "    (hidden): ModuleList(\n",
       "      (0-3): 4 x Block(\n",
       "        (rn_1): RMSNorm(dim=32, eps=1e-05, elementwise_affine=True)\n",
       "        (rn_2): RMSNorm(dim=32, eps=1e-05, elementwise_affine=True)\n",
       "        (stu): STU()\n",
       "        (mlp): GatedMLP(\n",
       "          (fc_1): Linear(in_features=32, out_features=256, bias=False)\n",
       "          (fc_2): Linear(in_features=128, out_features=32, bias=False)\n",
       "          (silu): SiLU()\n",
       "          (dropout): Dropout(p=0.0, inplace=False)\n",
       "        )\n",
       "      )\n",
       "    )\n",
       "  )\n",
       "  (input_proj): Linear(in_features=24, out_features=32, bias=False)\n",
       "  (output_proj): Linear(in_features=32, out_features=18, bias=False)\n",
       ")"
      ]
     },
     "execution_count": 16,
     "metadata": {},
     "output_type": "execute_result"
    }
   ],
   "source": [
    "model.eval()"
   ]
  },
  {
   "cell_type": "code",
   "execution_count": 17,
   "metadata": {},
   "outputs": [
    {
     "name": "stdout",
     "output_type": "stream",
     "text": [
      "Epoch 0, Loss: 0.010746574029326439\n",
      "Epoch 100, Loss: 1.8809410903486423e-05\n",
      "Epoch 200, Loss: 1.0011784979724325e-05\n",
      "Epoch 300, Loss: 8.11583777249325e-06\n",
      "Epoch 400, Loss: 6.922792181285331e-06\n",
      "Epoch 500, Loss: 5.5597165555809624e-06\n",
      "Epoch 600, Loss: 5.488723218149971e-06\n",
      "Epoch 700, Loss: 4.307809376769001e-06\n",
      "Epoch 800, Loss: 4.190667368675349e-06\n",
      "Epoch 900, Loss: 4.03136391469161e-06\n"
     ]
    }
   ],
   "source": [
    "state_dim = 100 #@param\n",
    "lds =  LDS(state_dim, d_model, d_model).to(device)\n",
    "optimizer = torch.optim.Adam(lds.parameters(), lr = 0.005)\n",
    "lds_epochs = 1000\n",
    "lds_loss_values = []\n",
    "\n",
    "for epoch in range(lds_epochs):\n",
    "    inputs = torch.randn(1, sl, d_model).to(device)\n",
    "    stu_outputs = stu_layers[0](inputs).to(device)\n",
    "\n",
    "    optimizer.zero_grad()\n",
    "    loss = lds.compute_loss(inputs, stu_outputs)\n",
    "    loss.backward()\n",
    "    torch.nn.utils.clip_grad_norm_(lds.parameters(), max_norm=1)\n",
    "    lds_loss_values.append(loss.item())\n",
    "    optimizer.step()\n",
    "\n",
    "    with torch.no_grad():\n",
    "        lds.A.data.clamp_(max=1, min = -1)\n",
    "\n",
    "    if epoch % 100 == 0:\n",
    "        print(f'Epoch {epoch}, Loss: {loss.item()}')"
   ]
  },
  {
   "cell_type": "code",
   "execution_count": 18,
   "metadata": {},
   "outputs": [
    {
     "data": {
      "text/plain": [
       "[tensor(-0.9606, device='cuda:0'),\n",
       " tensor(-0.8055, device='cuda:0'),\n",
       " tensor(-0.7850, device='cuda:0'),\n",
       " tensor(-0.7755, device='cuda:0'),\n",
       " tensor(-0.7451, device='cuda:0'),\n",
       " tensor(-0.7252, device='cuda:0'),\n",
       " tensor(-0.7242, device='cuda:0'),\n",
       " tensor(-0.7196, device='cuda:0'),\n",
       " tensor(-0.7006, device='cuda:0'),\n",
       " tensor(-0.6895, device='cuda:0'),\n",
       " tensor(-0.6721, device='cuda:0'),\n",
       " tensor(-0.6617, device='cuda:0'),\n",
       " tensor(-0.6457, device='cuda:0'),\n",
       " tensor(-0.6138, device='cuda:0'),\n",
       " tensor(-0.5961, device='cuda:0'),\n",
       " tensor(-0.5958, device='cuda:0'),\n",
       " tensor(-0.5871, device='cuda:0'),\n",
       " tensor(-0.5762, device='cuda:0'),\n",
       " tensor(-0.5643, device='cuda:0'),\n",
       " tensor(-0.5056, device='cuda:0'),\n",
       " tensor(-0.4666, device='cuda:0'),\n",
       " tensor(-0.4401, device='cuda:0'),\n",
       " tensor(-0.4325, device='cuda:0'),\n",
       " tensor(-0.4251, device='cuda:0'),\n",
       " tensor(-0.4173, device='cuda:0'),\n",
       " tensor(-0.3809, device='cuda:0'),\n",
       " tensor(-0.3794, device='cuda:0'),\n",
       " tensor(-0.3728, device='cuda:0'),\n",
       " tensor(-0.3239, device='cuda:0'),\n",
       " tensor(-0.2996, device='cuda:0'),\n",
       " tensor(-0.2982, device='cuda:0'),\n",
       " tensor(-0.2746, device='cuda:0'),\n",
       " tensor(-0.2557, device='cuda:0'),\n",
       " tensor(-0.1762, device='cuda:0'),\n",
       " tensor(-0.1243, device='cuda:0'),\n",
       " tensor(-0.1207, device='cuda:0'),\n",
       " tensor(-0.1052, device='cuda:0'),\n",
       " tensor(-0.0749, device='cuda:0'),\n",
       " tensor(-0.0746, device='cuda:0'),\n",
       " tensor(-0.0657, device='cuda:0'),\n",
       " tensor(-0.0457, device='cuda:0'),\n",
       " tensor(-0.0444, device='cuda:0'),\n",
       " tensor(-0.0426, device='cuda:0'),\n",
       " tensor(-0.0400, device='cuda:0'),\n",
       " tensor(-0.0376, device='cuda:0'),\n",
       " tensor(-0.0317, device='cuda:0'),\n",
       " tensor(-0.0295, device='cuda:0'),\n",
       " tensor(-0.0099, device='cuda:0'),\n",
       " tensor(-0.0064, device='cuda:0'),\n",
       " tensor(-0.0051, device='cuda:0'),\n",
       " tensor(-0.0026, device='cuda:0'),\n",
       " tensor(0.0067, device='cuda:0'),\n",
       " tensor(0.0130, device='cuda:0'),\n",
       " tensor(0.0144, device='cuda:0'),\n",
       " tensor(0.0196, device='cuda:0'),\n",
       " tensor(0.0214, device='cuda:0'),\n",
       " tensor(0.0296, device='cuda:0'),\n",
       " tensor(0.0397, device='cuda:0'),\n",
       " tensor(0.0513, device='cuda:0'),\n",
       " tensor(0.0569, device='cuda:0'),\n",
       " tensor(0.0635, device='cuda:0'),\n",
       " tensor(0.0697, device='cuda:0'),\n",
       " tensor(0.0980, device='cuda:0'),\n",
       " tensor(0.1179, device='cuda:0'),\n",
       " tensor(0.1416, device='cuda:0'),\n",
       " tensor(0.1464, device='cuda:0'),\n",
       " tensor(0.1850, device='cuda:0'),\n",
       " tensor(0.1908, device='cuda:0'),\n",
       " tensor(0.2264, device='cuda:0'),\n",
       " tensor(0.2875, device='cuda:0'),\n",
       " tensor(0.3065, device='cuda:0'),\n",
       " tensor(0.3148, device='cuda:0'),\n",
       " tensor(0.3293, device='cuda:0'),\n",
       " tensor(0.3530, device='cuda:0'),\n",
       " tensor(0.3537, device='cuda:0'),\n",
       " tensor(0.3687, device='cuda:0'),\n",
       " tensor(0.3708, device='cuda:0'),\n",
       " tensor(0.4311, device='cuda:0'),\n",
       " tensor(0.4468, device='cuda:0'),\n",
       " tensor(0.4549, device='cuda:0'),\n",
       " tensor(0.4916, device='cuda:0'),\n",
       " tensor(0.5021, device='cuda:0'),\n",
       " tensor(0.5492, device='cuda:0'),\n",
       " tensor(0.5734, device='cuda:0'),\n",
       " tensor(0.6331, device='cuda:0'),\n",
       " tensor(0.6331, device='cuda:0'),\n",
       " tensor(0.6403, device='cuda:0'),\n",
       " tensor(0.6431, device='cuda:0'),\n",
       " tensor(0.6725, device='cuda:0'),\n",
       " tensor(0.6757, device='cuda:0'),\n",
       " tensor(0.6762, device='cuda:0'),\n",
       " tensor(0.6911, device='cuda:0'),\n",
       " tensor(0.6913, device='cuda:0'),\n",
       " tensor(0.6922, device='cuda:0'),\n",
       " tensor(0.6999, device='cuda:0'),\n",
       " tensor(0.7288, device='cuda:0'),\n",
       " tensor(0.7582, device='cuda:0'),\n",
       " tensor(0.7989, device='cuda:0'),\n",
       " tensor(0.7990, device='cuda:0'),\n",
       " tensor(0.8026, device='cuda:0')]"
      ]
     },
     "execution_count": 18,
     "metadata": {},
     "output_type": "execute_result"
    }
   ],
   "source": [
    "sorted(lds.A.data)"
   ]
  },
  {
   "cell_type": "code",
   "execution_count": 19,
   "metadata": {},
   "outputs": [],
   "source": [
    "#Import my code over for visualizing the STU kernel"
   ]
  },
  {
   "cell_type": "code",
   "execution_count": 20,
   "metadata": {},
   "outputs": [
    {
     "data": {
      "text/plain": [
       "[<matplotlib.lines.Line2D at 0x17bb3ed8d90>]"
      ]
     },
     "execution_count": 20,
     "metadata": {},
     "output_type": "execute_result"
    },
    {
     "data": {
      "image/png": "[encoded data removed]",
      "text/plain": [
       "<Figure size 640x480 with 1 Axes>"
      ]
     },
     "metadata": {},
     "output_type": "display_data"
    }
   ],
   "source": [
    "import matplotlib.pyplot as plt\n",
    "plt.plot(lds_loss_values)"
   ]
  },
  {
   "cell_type": "code",
   "execution_count": 21,
   "metadata": {},
   "outputs": [
    {
     "name": "stdout",
     "output_type": "stream",
     "text": [
      "Epoch 0, Loss: 0.008195360191166401\n",
      "Epoch 100, Loss: 2.193725958932191e-05\n",
      "Epoch 200, Loss: 1.1760786946979351e-05\n",
      "Epoch 300, Loss: 8.6953878053464e-06\n",
      "Epoch 400, Loss: 6.580164154001977e-06\n",
      "Epoch 500, Loss: 5.488697297550971e-06\n",
      "Epoch 600, Loss: 5.069508006272372e-06\n",
      "Epoch 700, Loss: 4.369356247480027e-06\n",
      "Epoch 800, Loss: 4.179193638265133e-06\n",
      "Epoch 900, Loss: 4.0941140468930826e-06\n"
     ]
    }
   ],
   "source": [
    "state_dim = 100 #@param\n",
    "lds2 =  LDS(state_dim, d_model, d_model).to(device)\n",
    "optimizer = torch.optim.Adam(lds2.parameters(), lr = 0.005)\n",
    "lds_epochs = 1000\n",
    "lds_loss_values2 = []\n",
    "\n",
    "for epoch in range(lds_epochs):\n",
    "    inputs = torch.randn(1, sl, d_model).to(device)\n",
    "    stu_outputs = stu_layers[1](inputs)\n",
    "\n",
    "    optimizer.zero_grad()\n",
    "    loss = lds2.compute_loss(inputs, stu_outputs)\n",
    "    loss.backward()\n",
    "    torch.nn.utils.clip_grad_norm_(lds2.parameters(), max_norm=1)\n",
    "    lds_loss_values2.append(loss.item())\n",
    "    optimizer.step()\n",
    "\n",
    "    with torch.no_grad():\n",
    "        lds2.A.data.clamp_(max=1, min = -1)\n",
    "\n",
    "    if epoch % 100 == 0:\n",
    "        print(f'Epoch {epoch}, Loss: {loss.item()}')"
   ]
  },
  {
   "cell_type": "code",
   "execution_count": 22,
   "metadata": {},
   "outputs": [
    {
     "name": "stdout",
     "output_type": "stream",
     "text": [
      "Epoch 0, Loss: 0.01377025619149208\n",
      "Epoch 100, Loss: 2.5531120627420023e-05\n",
      "Epoch 200, Loss: 1.3501333341991995e-05\n",
      "Epoch 300, Loss: 9.642715667723678e-06\n",
      "Epoch 400, Loss: 7.430197001667693e-06\n",
      "Epoch 500, Loss: 6.044084329914767e-06\n",
      "Epoch 600, Loss: 5.739812877436634e-06\n",
      "Epoch 700, Loss: 4.961090780852828e-06\n",
      "Epoch 800, Loss: 4.5375272748060524e-06\n",
      "Epoch 900, Loss: 4.0469594750902615e-06\n"
     ]
    }
   ],
   "source": [
    "state_dim = 100 #@param\n",
    "lds3 =  LDS(state_dim, d_model, d_model).to(device)\n",
    "optimizer = torch.optim.Adam(lds3.parameters(), lr = 0.005)\n",
    "lds_epochs = 1000\n",
    "lds_loss_values3 = []\n",
    "\n",
    "for epoch in range(lds_epochs):\n",
    "    inputs = torch.randn(1, sl, d_model).to(device)\n",
    "    stu_outputs = stu_layers[2](inputs)\n",
    "\n",
    "    optimizer.zero_grad()\n",
    "    loss = lds3.compute_loss(inputs, stu_outputs)\n",
    "    loss.backward()\n",
    "    torch.nn.utils.clip_grad_norm_(lds3.parameters(), max_norm=1)\n",
    "    lds_loss_values3.append(loss.item())\n",
    "    optimizer.step()\n",
    "\n",
    "    with torch.no_grad():\n",
    "        lds3.A.data.clamp_(max=1, min = -1)\n",
    "\n",
    "    if epoch % 100 == 0:\n",
    "        print(f'Epoch {epoch}, Loss: {loss.item()}')"
   ]
  },
  {
   "cell_type": "code",
   "execution_count": 23,
   "metadata": {},
   "outputs": [
    {
     "data": {
      "text/plain": [
       "[<matplotlib.lines.Line2D at 0x17bb6106d70>]"
      ]
     },
     "execution_count": 23,
     "metadata": {},
     "output_type": "execute_result"
    },
    {
     "data": {
      "image/png": "[encoded data removed]",
      "text/plain": [
       "<Figure size 640x480 with 1 Axes>"
      ]
     },
     "metadata": {},
     "output_type": "display_data"
    }
   ],
   "source": [
    "plt.plot(lds_loss_values3)"
   ]
  },
  {
   "cell_type": "code",
   "execution_count": 24,
   "metadata": {},
   "outputs": [
    {
     "name": "stdout",
     "output_type": "stream",
     "text": [
      "Epoch 0, Loss: 0.021222533658146858\n",
      "Epoch 100, Loss: 3.3991462260019034e-05\n",
      "Epoch 200, Loss: 1.8948401702800766e-05\n",
      "Epoch 300, Loss: 1.2819519724871498e-05\n",
      "Epoch 400, Loss: 9.759839485923294e-06\n",
      "Epoch 500, Loss: 8.778406481724232e-06\n",
      "Epoch 600, Loss: 6.937051693967078e-06\n",
      "Epoch 700, Loss: 6.5865360738825984e-06\n",
      "Epoch 800, Loss: 5.395421794673894e-06\n",
      "Epoch 900, Loss: 5.090766535431612e-06\n"
     ]
    }
   ],
   "source": [
    "state_dim = 100 #@param\n",
    "lds4 =  LDS(state_dim, d_model, d_model).to(device)\n",
    "optimizer = torch.optim.Adam(lds4.parameters(), lr = 0.005)\n",
    "lds_epochs = 1000\n",
    "lds_loss_values4 = []\n",
    "\n",
    "for epoch in range(lds_epochs):\n",
    "    inputs = torch.randn(1, sl, d_model).to(device)\n",
    "    stu_outputs = stu_layers[3](inputs)\n",
    "\n",
    "    optimizer.zero_grad()\n",
    "    loss = lds4.compute_loss(inputs, stu_outputs)\n",
    "    loss.backward()\n",
    "    torch.nn.utils.clip_grad_norm_(lds4.parameters(), max_norm=1)\n",
    "    lds_loss_values4.append(loss.item())\n",
    "    optimizer.step()\n",
    "\n",
    "    with torch.no_grad():\n",
    "        lds4.A.data.clamp_(max=1, min = -1)\n",
    "\n",
    "    if epoch % 100 == 0:\n",
    "        print(f'Epoch {epoch}, Loss: {loss.item()}')"
   ]
  },
  {
   "cell_type": "code",
   "execution_count": 25,
   "metadata": {},
   "outputs": [
    {
     "data": {
      "text/plain": [
       "[<matplotlib.lines.Line2D at 0x17bb6164a00>]"
      ]
     },
     "execution_count": 25,
     "metadata": {},
     "output_type": "execute_result"
    },
    {
     "data": {
      "image/png": "[encoded data removed]",
      "text/plain": [
       "<Figure size 640x480 with 1 Axes>"
      ]
     },
     "metadata": {},
     "output_type": "display_data"
    }
   ],
   "source": [
    "plt.plot(lds_loss_values4[100:])"
   ]
  },
  {
   "cell_type": "code",
   "execution_count": 26,
   "metadata": {},
   "outputs": [
    {
     "data": {
      "text/plain": [
       "SpectralSSM(\n",
       "  (loss_fn): HalfCheetahLoss(\n",
       "    (mse_loss): MSELoss()\n",
       "  )\n",
       "  (spectral_ssm): ModuleDict(\n",
       "    (dropout): Dropout(p=0.0, inplace=False)\n",
       "    (hidden): ModuleList(\n",
       "      (0-3): 4 x Block(\n",
       "        (rn_1): RMSNorm(dim=32, eps=1e-05, elementwise_affine=True)\n",
       "        (rn_2): RMSNorm(dim=32, eps=1e-05, elementwise_affine=True)\n",
       "        (stu): LDS()\n",
       "        (mlp): GatedMLP(\n",
       "          (fc_1): Linear(in_features=32, out_features=256, bias=False)\n",
       "          (fc_2): Linear(in_features=128, out_features=32, bias=False)\n",
       "          (silu): SiLU()\n",
       "          (dropout): Dropout(p=0.0, inplace=False)\n",
       "        )\n",
       "      )\n",
       "    )\n",
       "  )\n",
       "  (input_proj): Linear(in_features=24, out_features=32, bias=False)\n",
       "  (output_proj): Linear(in_features=32, out_features=18, bias=False)\n",
       ")"
      ]
     },
     "execution_count": 26,
     "metadata": {},
     "output_type": "execute_result"
    }
   ],
   "source": [
    "model2 = copy.deepcopy(model)\n",
    "\n",
    "model2.spectral_ssm['hidden'][0].stu = lds\n",
    "model2.spectral_ssm['hidden'][1].stu = lds2\n",
    "model2.spectral_ssm['hidden'][2].stu = lds3\n",
    "model2.spectral_ssm['hidden'][3].stu = lds4\n",
    "model2.to(device)"
   ]
  },
  {
   "cell_type": "code",
   "execution_count": 27,
   "metadata": {},
   "outputs": [
    {
     "name": "stderr",
     "output_type": "stream",
     "text": [
      "100%|██████████| 618/618 [01:56<00:00,  5.29it/s]"
     ]
    },
    {
     "name": "stdout",
     "output_type": "stream",
     "text": [
      "Validation Loss: 0.8332\n"
     ]
    },
    {
     "name": "stderr",
     "output_type": "stream",
     "text": [
      "\n"
     ]
    }
   ],
   "source": [
    "validation_loss = evaluate_model(model2, val_loader, loss_fn, device)\n",
    "print(f\"Validation Loss: {validation_loss:.4f}\")    "
   ]
  },
  {
   "cell_type": "code",
   "execution_count": 28,
   "metadata": {},
   "outputs": [],
   "source": [
    "class Identity(nn.Module):\n",
    "    def __init__(self):\n",
    "        super(Identity, self).__init__()\n",
    "\n",
    "    def forward(self, x):\n",
    "        return x"
   ]
  },
  {
   "cell_type": "code",
   "execution_count": 29,
   "metadata": {},
   "outputs": [],
   "source": [
    "class Zero(nn.Module):\n",
    "    def __init__(self):\n",
    "        super(Zero, self).__init__()\n",
    "\n",
    "    def forward(self, x):\n",
    "        return torch.zeros(x.shape).to(device)"
   ]
  },
  {
   "cell_type": "code",
   "execution_count": 30,
   "metadata": {},
   "outputs": [
    {
     "data": {
      "text/plain": [
       "SpectralSSM(\n",
       "  (loss_fn): HalfCheetahLoss(\n",
       "    (mse_loss): MSELoss()\n",
       "  )\n",
       "  (spectral_ssm): ModuleDict(\n",
       "    (dropout): Dropout(p=0.0, inplace=False)\n",
       "    (hidden): ModuleList(\n",
       "      (0-3): 4 x Block(\n",
       "        (rn_1): RMSNorm(dim=32, eps=1e-05, elementwise_affine=True)\n",
       "        (rn_2): RMSNorm(dim=32, eps=1e-05, elementwise_affine=True)\n",
       "        (stu): Identity()\n",
       "        (mlp): GatedMLP(\n",
       "          (fc_1): Linear(in_features=32, out_features=256, bias=False)\n",
       "          (fc_2): Linear(in_features=128, out_features=32, bias=False)\n",
       "          (silu): SiLU()\n",
       "          (dropout): Dropout(p=0.0, inplace=False)\n",
       "        )\n",
       "      )\n",
       "    )\n",
       "  )\n",
       "  (input_proj): Linear(in_features=24, out_features=32, bias=False)\n",
       "  (output_proj): Linear(in_features=32, out_features=18, bias=False)\n",
       ")"
      ]
     },
     "execution_count": 30,
     "metadata": {},
     "output_type": "execute_result"
    }
   ],
   "source": [
    "model3 = copy.deepcopy(model)\n",
    "\n",
    "model3.spectral_ssm['hidden'][0].stu = Identity()\n",
    "model3.spectral_ssm['hidden'][1].stu = Identity()\n",
    "model3.spectral_ssm['hidden'][2].stu = Identity()\n",
    "model3.spectral_ssm['hidden'][3].stu = Identity()\n",
    "model3.to(device)"
   ]
  },
  {
   "cell_type": "code",
   "execution_count": 31,
   "metadata": {},
   "outputs": [
    {
     "name": "stderr",
     "output_type": "stream",
     "text": [
      "100%|██████████| 618/618 [00:02<00:00, 268.66it/s]"
     ]
    },
    {
     "name": "stdout",
     "output_type": "stream",
     "text": [
      "Validation Loss: 7.7098\n"
     ]
    },
    {
     "name": "stderr",
     "output_type": "stream",
     "text": [
      "\n"
     ]
    }
   ],
   "source": [
    "validation_loss = evaluate_model(model3, val_loader, loss_fn, device)\n",
    "print(f\"Validation Loss: {validation_loss:.4f}\")    "
   ]
  },
  {
   "cell_type": "code",
   "execution_count": 32,
   "metadata": {},
   "outputs": [
    {
     "data": {
      "text/plain": [
       "SpectralSSM(\n",
       "  (loss_fn): HalfCheetahLoss(\n",
       "    (mse_loss): MSELoss()\n",
       "  )\n",
       "  (spectral_ssm): ModuleDict(\n",
       "    (dropout): Dropout(p=0.0, inplace=False)\n",
       "    (hidden): ModuleList(\n",
       "      (0-3): 4 x Block(\n",
       "        (rn_1): RMSNorm(dim=32, eps=1e-05, elementwise_affine=True)\n",
       "        (rn_2): RMSNorm(dim=32, eps=1e-05, elementwise_affine=True)\n",
       "        (stu): Zero()\n",
       "        (mlp): GatedMLP(\n",
       "          (fc_1): Linear(in_features=32, out_features=256, bias=False)\n",
       "          (fc_2): Linear(in_features=128, out_features=32, bias=False)\n",
       "          (silu): SiLU()\n",
       "          (dropout): Dropout(p=0.0, inplace=False)\n",
       "        )\n",
       "      )\n",
       "    )\n",
       "  )\n",
       "  (input_proj): Linear(in_features=24, out_features=32, bias=False)\n",
       "  (output_proj): Linear(in_features=32, out_features=18, bias=False)\n",
       ")"
      ]
     },
     "execution_count": 32,
     "metadata": {},
     "output_type": "execute_result"
    }
   ],
   "source": [
    "model3 = copy.deepcopy(model)\n",
    "\n",
    "model3.spectral_ssm['hidden'][0].stu = Zero()\n",
    "model3.spectral_ssm['hidden'][1].stu = Zero()\n",
    "model3.spectral_ssm['hidden'][2].stu = Zero()\n",
    "model3.spectral_ssm['hidden'][3].stu = Zero()\n",
    "model3.to(device)"
   ]
  },
  {
   "cell_type": "code",
   "execution_count": 33,
   "metadata": {},
   "outputs": [
    {
     "name": "stderr",
     "output_type": "stream",
     "text": [
      "100%|██████████| 618/618 [00:02<00:00, 234.81it/s]\n"
     ]
    },
    {
     "name": "stdout",
     "output_type": "stream",
     "text": [
      "Validation Loss: 0.9310\n"
     ]
    }
   ],
   "source": [
    "validation_loss = evaluate_model(model3, val_loader, loss_fn, device)\n",
    "print(f\"Validation Loss: {validation_loss:.4f}\")    "
   ]
  },
  {
   "cell_type": "code",
   "execution_count": null,
   "metadata": {},
   "outputs": [],
   "source": []
  }
 ],
 "metadata": {
  "colab": {
   "provenance": []
  },
  "kernelspec": {
   "display_name": "sssm",
   "language": "python",
   "name": "python3"
  },
  "language_info": {
   "codemirror_mode": {
    "name": "ipython",
    "version": 3
   },
   "file_extension": ".py",
   "mimetype": "text/x-python",
   "name": "python",
   "nbconvert_exporter": "python",
   "pygments_lexer": "ipython3",
   "version": "3.10.15"
  }
 },
 "nbformat": 4,
 "nbformat_minor": 0
}
